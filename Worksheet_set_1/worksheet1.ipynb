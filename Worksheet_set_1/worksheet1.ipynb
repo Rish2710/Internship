{
 "cells": [
  {
   "cell_type": "markdown",
   "id": "7499b12b",
   "metadata": {},
   "source": [
    "# Question.11\n"
   ]
  },
  {
   "cell_type": "code",
   "execution_count": 1,
   "id": "c4d2a270",
   "metadata": {},
   "outputs": [
    {
     "name": "stdout",
     "output_type": "stream",
     "text": [
      "Enter the number: 8\n",
      "40320\n"
     ]
    }
   ],
   "source": [
    "x =int(input(\"Enter the number: \"))\n",
    "\n",
    "def fact(n):\n",
    "    f=1\n",
    "    \n",
    "    for i in range(1,n+1):\n",
    "        f = f*i\n",
    "        \n",
    "    return f\n",
    "\n",
    "print(fact(x))\n",
    "        \n",
    "    "
   ]
  },
  {
   "cell_type": "markdown",
   "id": "122e1d40",
   "metadata": {},
   "source": [
    "# Question.12"
   ]
  },
  {
   "cell_type": "code",
   "execution_count": 2,
   "id": "c2cb7326",
   "metadata": {},
   "outputs": [
    {
     "name": "stdout",
     "output_type": "stream",
     "text": [
      "Enter the Number: 11\n",
      "Its a Prime number\n"
     ]
    }
   ],
   "source": [
    "X = int(input(\"Enter the Number: \"))\n",
    "count=0\n",
    "i=1\n",
    "while i<=X:\n",
    "    if X%i==0:\n",
    "        count=count+1\n",
    "        \n",
    "    i=i+1\n",
    "    \n",
    "if count==2:\n",
    "    print(\"Its a Prime number\")\n",
    "    \n",
    "elif count>2:\n",
    "    print(\"Its a Composite number\")\n",
    "    \n",
    "else:\n",
    "    print(\"The number is neither Prime nor composite\")"
   ]
  },
  {
   "cell_type": "markdown",
   "id": "022c1ba2",
   "metadata": {},
   "source": [
    "# Question.13"
   ]
  },
  {
   "cell_type": "code",
   "execution_count": 3,
   "id": "1d2fe5c5",
   "metadata": {},
   "outputs": [
    {
     "name": "stdout",
     "output_type": "stream",
     "text": [
      "Enter String: naman\n",
      "Palindrome\n"
     ]
    }
   ],
   "source": [
    "x=input(\"Enter String: \")\n",
    "y=x[-1::-1]\n",
    "\n",
    "if (x==y):\n",
    "    print(\"Palindrome\")\n",
    "    \n",
    "else:\n",
    "    print(\"Not Palindrome\")"
   ]
  },
  {
   "cell_type": "markdown",
   "id": "98234f20",
   "metadata": {},
   "source": [
    "# Question.14"
   ]
  },
  {
   "cell_type": "code",
   "execution_count": 4,
   "id": "ae6b0d10",
   "metadata": {},
   "outputs": [
    {
     "name": "stdout",
     "output_type": "stream",
     "text": [
      "Enter x: 6\n",
      "Enter y: 8\n",
      "The length of hypotenuse is: 10.0\n"
     ]
    }
   ],
   "source": [
    "#for finding hypotenuse.\n",
    "from math import sqrt\n",
    "\n",
    "x = float(input(\"Enter x: \"))\n",
    "y = float(input(\"Enter y: \"))\n",
    "\n",
    "z = sqrt(x**2 + y**2)\n",
    "\n",
    "print(\"The length of hypotenuse is:\", z)"
   ]
  },
  {
   "cell_type": "code",
   "execution_count": 5,
   "id": "3c6faa54",
   "metadata": {},
   "outputs": [
    {
     "name": "stdout",
     "output_type": "stream",
     "text": [
      "Enter hypotenuse: 10\n",
      "Enter side: 6\n",
      "The length of third side is: 8.0\n"
     ]
    }
   ],
   "source": [
    "#for finding side other than hypotenuse\n",
    "from math import sqrt\n",
    "\n",
    "a = float(input(\"Enter hypotenuse: \"))\n",
    "b = float(input(\"Enter side: \"))\n",
    "\n",
    "c = sqrt(a**2 - b**2)\n",
    "\n",
    "print (\"The length of third side is:\", c)"
   ]
  },
  {
   "cell_type": "markdown",
   "id": "44031db3",
   "metadata": {},
   "source": [
    "# Question.15"
   ]
  },
  {
   "cell_type": "code",
   "execution_count": 6,
   "id": "8221d32c",
   "metadata": {},
   "outputs": [
    {
     "name": "stdout",
     "output_type": "stream",
     "text": [
      "Enter the string: good morning how are you\n",
      "{'g': 2, 'o': 5, 'd': 1, ' ': 4, 'm': 1, 'r': 2, 'n': 2, 'i': 1, 'h': 1, 'w': 1, 'a': 1, 'e': 1, 'y': 1, 'u': 1}\n"
     ]
    }
   ],
   "source": [
    "a = input(\"Enter the string: \")\n",
    "d = dict()\n",
    "for i in a:\n",
    "    if i in d:\n",
    "        d[i] = d[i] + 1\n",
    "    else:\n",
    "        d[i] = 1\n",
    "        \n",
    "print(d)"
   ]
  },
  {
   "cell_type": "code",
   "execution_count": null,
   "id": "5d2deeb6",
   "metadata": {},
   "outputs": [],
   "source": []
  }
 ],
 "metadata": {
  "kernelspec": {
   "display_name": "Python 3",
   "language": "python",
   "name": "python3"
  },
  "language_info": {
   "codemirror_mode": {
    "name": "ipython",
    "version": 3
   },
   "file_extension": ".py",
   "mimetype": "text/x-python",
   "name": "python",
   "nbconvert_exporter": "python",
   "pygments_lexer": "ipython3",
   "version": "3.8.8"
  }
 },
 "nbformat": 4,
 "nbformat_minor": 5
}
