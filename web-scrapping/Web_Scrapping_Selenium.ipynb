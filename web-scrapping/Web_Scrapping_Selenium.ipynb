{
 "cells": [
  {
   "cell_type": "markdown",
   "id": "d7afd1af",
   "metadata": {},
   "source": [
    "Installing Selenium Library"
   ]
  },
  {
   "cell_type": "code",
   "execution_count": 1,
   "id": "c69bf656",
   "metadata": {},
   "outputs": [
    {
     "name": "stdout",
     "output_type": "stream",
     "text": [
      "Requirement already satisfied: selenium in ./opt/anaconda3/lib/python3.8/site-packages (4.1.0)\n",
      "Requirement already satisfied: urllib3[secure]~=1.26 in ./opt/anaconda3/lib/python3.8/site-packages (from selenium) (1.26.4)\n",
      "Requirement already satisfied: trio-websocket~=0.9 in ./opt/anaconda3/lib/python3.8/site-packages (from selenium) (0.9.2)\n",
      "Requirement already satisfied: trio~=0.17 in ./opt/anaconda3/lib/python3.8/site-packages (from selenium) (0.19.0)\n",
      "Requirement already satisfied: async-generator>=1.9 in ./opt/anaconda3/lib/python3.8/site-packages (from trio~=0.17->selenium) (1.10)\n",
      "Requirement already satisfied: sniffio in ./opt/anaconda3/lib/python3.8/site-packages (from trio~=0.17->selenium) (1.2.0)\n",
      "Requirement already satisfied: idna in ./opt/anaconda3/lib/python3.8/site-packages (from trio~=0.17->selenium) (2.10)\n",
      "Requirement already satisfied: sortedcontainers in ./opt/anaconda3/lib/python3.8/site-packages (from trio~=0.17->selenium) (2.3.0)\n",
      "Requirement already satisfied: attrs>=19.2.0 in ./opt/anaconda3/lib/python3.8/site-packages (from trio~=0.17->selenium) (20.3.0)\n",
      "Requirement already satisfied: outcome in ./opt/anaconda3/lib/python3.8/site-packages (from trio~=0.17->selenium) (1.1.0)\n",
      "Requirement already satisfied: wsproto>=0.14 in ./opt/anaconda3/lib/python3.8/site-packages (from trio-websocket~=0.9->selenium) (1.0.0)\n",
      "Requirement already satisfied: certifi in ./opt/anaconda3/lib/python3.8/site-packages (from urllib3[secure]~=1.26->selenium) (2020.12.5)\n",
      "Requirement already satisfied: cryptography>=1.3.4 in ./opt/anaconda3/lib/python3.8/site-packages (from urllib3[secure]~=1.26->selenium) (3.4.7)\n",
      "Requirement already satisfied: pyOpenSSL>=0.14 in ./opt/anaconda3/lib/python3.8/site-packages (from urllib3[secure]~=1.26->selenium) (20.0.1)\n",
      "Requirement already satisfied: cffi>=1.12 in ./opt/anaconda3/lib/python3.8/site-packages (from cryptography>=1.3.4->urllib3[secure]~=1.26->selenium) (1.14.5)\n",
      "Requirement already satisfied: pycparser in ./opt/anaconda3/lib/python3.8/site-packages (from cffi>=1.12->cryptography>=1.3.4->urllib3[secure]~=1.26->selenium) (2.20)\n",
      "Requirement already satisfied: six>=1.5.2 in ./opt/anaconda3/lib/python3.8/site-packages (from pyOpenSSL>=0.14->urllib3[secure]~=1.26->selenium) (1.15.0)\n",
      "Requirement already satisfied: h11<1,>=0.9.0 in ./opt/anaconda3/lib/python3.8/site-packages (from wsproto>=0.14->trio-websocket~=0.9->selenium) (0.12.0)\n"
     ]
    }
   ],
   "source": [
    "!pip install selenium"
   ]
  },
  {
   "cell_type": "code",
   "execution_count": 2,
   "id": "a4481cf9",
   "metadata": {},
   "outputs": [],
   "source": [
    "#Importing Necessary Library\n",
    "import selenium\n",
    "from selenium import webdriver\n",
    "import pandas as pd\n",
    "import time\n",
    "from time import sleep\n",
    "import warnings\n",
    "warnings.filterwarnings(\"ignore\")"
   ]
  },
  {
   "cell_type": "code",
   "execution_count": 3,
   "id": "2dac1e96",
   "metadata": {},
   "outputs": [],
   "source": [
    "#Installing Driver for Macbook\n",
    "driver = webdriver.Chrome(r'/Users/rishabh/Desktop/chromedriver')"
   ]
  },
  {
   "cell_type": "markdown",
   "id": "042c11ee",
   "metadata": {},
   "source": [
    "# Question.1"
   ]
  },
  {
   "cell_type": "code",
   "execution_count": 4,
   "id": "1ae20567",
   "metadata": {},
   "outputs": [],
   "source": [
    "url = 'https://www.naukri.com/'\n",
    "driver.get(url)"
   ]
  },
  {
   "cell_type": "code",
   "execution_count": 5,
   "id": "1c0ac9c9",
   "metadata": {},
   "outputs": [
    {
     "data": {
      "text/plain": [
       "<selenium.webdriver.remote.webelement.WebElement (session=\"b3266e5465de049bcc0d9c93eed58f7a\", element=\"74651c27-2d35-4b01-abe3-fa406c20124e\")>"
      ]
     },
     "execution_count": 5,
     "metadata": {},
     "output_type": "execute_result"
    }
   ],
   "source": [
    "#Finding web element for search job bar using id\n",
    "search_job = driver.find_element_by_xpath('//input[@class=\"suggestor-input \"]')\n",
    "search_job"
   ]
  },
  {
   "cell_type": "code",
   "execution_count": 6,
   "id": "f60b5684",
   "metadata": {},
   "outputs": [],
   "source": [
    "#Write on search bar\n",
    "search_job.send_keys('Data Analyst')"
   ]
  },
  {
   "cell_type": "code",
   "execution_count": 7,
   "id": "594f3d94",
   "metadata": {},
   "outputs": [
    {
     "data": {
      "text/plain": [
       "<selenium.webdriver.remote.webelement.WebElement (session=\"b3266e5465de049bcc0d9c93eed58f7a\", element=\"19520908-c08c-40bb-bfdb-1f47f19f9a91\")>"
      ]
     },
     "execution_count": 7,
     "metadata": {},
     "output_type": "execute_result"
    }
   ],
   "source": [
    "#finding web element for search location bar using absolute xpath\n",
    "search_loc = driver.find_element_by_xpath(\"/html/body/div/div[2]/div[3]/div/div/div[3]/div/div/div/input\")\n",
    "search_loc"
   ]
  },
  {
   "cell_type": "code",
   "execution_count": 8,
   "id": "47a3e32e",
   "metadata": {},
   "outputs": [],
   "source": [
    "search_loc.send_keys(\"Banglore\")"
   ]
  },
  {
   "cell_type": "code",
   "execution_count": 9,
   "id": "ff311f57",
   "metadata": {},
   "outputs": [
    {
     "data": {
      "text/plain": [
       "<selenium.webdriver.remote.webelement.WebElement (session=\"b3266e5465de049bcc0d9c93eed58f7a\", element=\"9ce274ef-0681-4798-aa92-a4aa56db8b7b\")>"
      ]
     },
     "execution_count": 9,
     "metadata": {},
     "output_type": "execute_result"
    }
   ],
   "source": [
    "#clicking using xpath.\n",
    "search_button = driver.find_element_by_xpath('//div[@class=\"qsbSubmit\"]')\n",
    "search_button"
   ]
  },
  {
   "cell_type": "code",
   "execution_count": 10,
   "id": "5dda5dbb",
   "metadata": {},
   "outputs": [],
   "source": [
    "search_button.click()"
   ]
  },
  {
   "cell_type": "markdown",
   "id": "e9eee2e3",
   "metadata": {},
   "source": [
    "# SCRAPING THE DATA"
   ]
  },
  {
   "cell_type": "markdown",
   "id": "f9e9e960",
   "metadata": {},
   "source": [
    "Extracting job titles"
   ]
  },
  {
   "cell_type": "code",
   "execution_count": 11,
   "id": "4fcafd07",
   "metadata": {},
   "outputs": [
    {
     "data": {
      "text/plain": [
       "20"
      ]
     },
     "execution_count": 11,
     "metadata": {},
     "output_type": "execute_result"
    }
   ],
   "source": [
    "#Extracting all the elements having job titles.\n",
    "title_tags = driver.find_elements_by_xpath('//a[@class=\"title fw500 ellipsis\"]')\n",
    "len(title_tags)"
   ]
  },
  {
   "cell_type": "code",
   "execution_count": 12,
   "id": "4a5aab46",
   "metadata": {},
   "outputs": [
    {
     "data": {
      "text/plain": [
       "20"
      ]
     },
     "execution_count": 12,
     "metadata": {},
     "output_type": "execute_result"
    }
   ],
   "source": [
    "job_title = []\n",
    "\n",
    "for i in title_tags:\n",
    "    job_title.append(i.text)\n",
    "    \n",
    "len(job_title)"
   ]
  },
  {
   "cell_type": "markdown",
   "id": "f224535b",
   "metadata": {},
   "source": [
    "Extracting company names"
   ]
  },
  {
   "cell_type": "code",
   "execution_count": 13,
   "id": "5ada1884",
   "metadata": {},
   "outputs": [
    {
     "data": {
      "text/plain": [
       "20"
      ]
     },
     "execution_count": 13,
     "metadata": {},
     "output_type": "execute_result"
    }
   ],
   "source": [
    "company_tags = driver.find_elements_by_xpath('//a[@class=\"subTitle ellipsis fleft\"]')\n",
    "len(company_tags)"
   ]
  },
  {
   "cell_type": "code",
   "execution_count": 14,
   "id": "6408f057",
   "metadata": {},
   "outputs": [
    {
     "data": {
      "text/plain": [
       "20"
      ]
     },
     "execution_count": 14,
     "metadata": {},
     "output_type": "execute_result"
    }
   ],
   "source": [
    "company_name = []\n",
    "\n",
    "for i in company_tags:\n",
    "    company_name.append(i.text)\n",
    "    \n",
    "len(company_name)"
   ]
  },
  {
   "cell_type": "markdown",
   "id": "9075d34a",
   "metadata": {},
   "source": [
    "Extracting job location using Parent tag"
   ]
  },
  {
   "cell_type": "code",
   "execution_count": 15,
   "id": "d52cf1cb",
   "metadata": {},
   "outputs": [
    {
     "data": {
      "text/plain": [
       "20"
      ]
     },
     "execution_count": 15,
     "metadata": {},
     "output_type": "execute_result"
    }
   ],
   "source": [
    "loc_tags = driver.find_elements_by_xpath('//li[@class=\"fleft grey-text br2 placeHolderLi location\"]')\n",
    "len(loc_tags)"
   ]
  },
  {
   "cell_type": "code",
   "execution_count": 16,
   "id": "f8aff08a",
   "metadata": {},
   "outputs": [
    {
     "data": {
      "text/plain": [
       "20"
      ]
     },
     "execution_count": 16,
     "metadata": {},
     "output_type": "execute_result"
    }
   ],
   "source": [
    "location = []\n",
    "\n",
    "for i in loc_tags:\n",
    "    location.append(i.text)\n",
    "    \n",
    "len(location)"
   ]
  },
  {
   "cell_type": "markdown",
   "id": "cabeba3b",
   "metadata": {},
   "source": [
    "Extracting Experience using Parent tag"
   ]
  },
  {
   "cell_type": "code",
   "execution_count": 17,
   "id": "a264d390",
   "metadata": {},
   "outputs": [
    {
     "data": {
      "text/plain": [
       "20"
      ]
     },
     "execution_count": 17,
     "metadata": {},
     "output_type": "execute_result"
    }
   ],
   "source": [
    "exp_tags = driver.find_elements_by_xpath('//li[@class=\"fleft grey-text br2 placeHolderLi experience\"]')\n",
    "len(exp_tags)"
   ]
  },
  {
   "cell_type": "code",
   "execution_count": 18,
   "id": "3f2b029f",
   "metadata": {},
   "outputs": [
    {
     "data": {
      "text/plain": [
       "20"
      ]
     },
     "execution_count": 18,
     "metadata": {},
     "output_type": "execute_result"
    }
   ],
   "source": [
    "experience = []\n",
    "\n",
    "for i in exp_tags:\n",
    "    experience.append(i.text)\n",
    "    \n",
    "len(experience)"
   ]
  },
  {
   "cell_type": "markdown",
   "id": "b95ce1cc",
   "metadata": {},
   "source": [
    "Selecting First 10 jobs."
   ]
  },
  {
   "cell_type": "code",
   "execution_count": 19,
   "id": "b3f2b287",
   "metadata": {},
   "outputs": [],
   "source": [
    "job = job_title[:10]\n",
    "company = company_name[:10]\n",
    "locations = location[:10]\n",
    "exp = experience[:10]"
   ]
  },
  {
   "cell_type": "markdown",
   "id": "c6707867",
   "metadata": {},
   "source": [
    "Making DataFrame"
   ]
  },
  {
   "cell_type": "code",
   "execution_count": 20,
   "id": "0f1c703e",
   "metadata": {},
   "outputs": [
    {
     "data": {
      "text/html": [
       "<div>\n",
       "<style scoped>\n",
       "    .dataframe tbody tr th:only-of-type {\n",
       "        vertical-align: middle;\n",
       "    }\n",
       "\n",
       "    .dataframe tbody tr th {\n",
       "        vertical-align: top;\n",
       "    }\n",
       "\n",
       "    .dataframe thead th {\n",
       "        text-align: right;\n",
       "    }\n",
       "</style>\n",
       "<table border=\"1\" class=\"dataframe\">\n",
       "  <thead>\n",
       "    <tr style=\"text-align: right;\">\n",
       "      <th></th>\n",
       "      <th>Job Title</th>\n",
       "      <th>Company</th>\n",
       "      <th>Experience</th>\n",
       "      <th>Location</th>\n",
       "    </tr>\n",
       "  </thead>\n",
       "  <tbody>\n",
       "    <tr>\n",
       "      <th>0</th>\n",
       "      <td>Hiring Data Analyst For Global Logic-Immediate...</td>\n",
       "      <td>GlobalLogic</td>\n",
       "      <td>4-8 Yrs</td>\n",
       "      <td>Noida, Nagpur, Pune, Gurgaon/Gurugram, Bangalo...</td>\n",
       "    </tr>\n",
       "    <tr>\n",
       "      <th>1</th>\n",
       "      <td>Senior Data Analyst</td>\n",
       "      <td>Flipkart</td>\n",
       "      <td>4-6 Yrs</td>\n",
       "      <td>Bengaluru/Bangalore</td>\n",
       "    </tr>\n",
       "    <tr>\n",
       "      <th>2</th>\n",
       "      <td>Junior Data Analyst/ Scientist- Fresher Position</td>\n",
       "      <td>Sejal Consulting Hub</td>\n",
       "      <td>0-3 Yrs</td>\n",
       "      <td>Kolkata, Gurgaon/Gurugram, Bangalore/Bengaluru...</td>\n",
       "    </tr>\n",
       "    <tr>\n",
       "      <th>3</th>\n",
       "      <td>Assistant Clinical Data Analyst</td>\n",
       "      <td>Labcorp Drug Development India Private Limited</td>\n",
       "      <td>0-2 Yrs</td>\n",
       "      <td>Bangalore/Bengaluru</td>\n",
       "    </tr>\n",
       "    <tr>\n",
       "      <th>4</th>\n",
       "      <td>Lead - Data Analyst / Scientist</td>\n",
       "      <td>Axim Technologies</td>\n",
       "      <td>12-14 Yrs</td>\n",
       "      <td>Bangalore/Bengaluru</td>\n",
       "    </tr>\n",
       "    <tr>\n",
       "      <th>5</th>\n",
       "      <td>Data Analyst / Sr. Data Analyst</td>\n",
       "      <td>Vmware</td>\n",
       "      <td>3-6 Yrs</td>\n",
       "      <td>Bangalore/Bengaluru</td>\n",
       "    </tr>\n",
       "    <tr>\n",
       "      <th>6</th>\n",
       "      <td>Senior Data Analyst - CRM</td>\n",
       "      <td>Gojek Tech</td>\n",
       "      <td>2-5 Yrs</td>\n",
       "      <td>Bangalore/Bengaluru</td>\n",
       "    </tr>\n",
       "    <tr>\n",
       "      <th>7</th>\n",
       "      <td>Senior Data Analyst - Supporting Audits</td>\n",
       "      <td>Visa</td>\n",
       "      <td>5-8 Yrs</td>\n",
       "      <td>Bangalore/Bengaluru</td>\n",
       "    </tr>\n",
       "    <tr>\n",
       "      <th>8</th>\n",
       "      <td>Research - Data Analyst / Associate</td>\n",
       "      <td>AXL HR Tech</td>\n",
       "      <td>0-2 Yrs</td>\n",
       "      <td>Mumbai, Delhi / NCR, Bangalore/Bengaluru</td>\n",
       "    </tr>\n",
       "    <tr>\n",
       "      <th>9</th>\n",
       "      <td>SAM Data Analyst</td>\n",
       "      <td>Nokia</td>\n",
       "      <td>1-2 Yrs</td>\n",
       "      <td>Noida, Mumbai, Bangalore/Bengaluru</td>\n",
       "    </tr>\n",
       "  </tbody>\n",
       "</table>\n",
       "</div>"
      ],
      "text/plain": [
       "                                           Job Title  \\\n",
       "0  Hiring Data Analyst For Global Logic-Immediate...   \n",
       "1                                Senior Data Analyst   \n",
       "2   Junior Data Analyst/ Scientist- Fresher Position   \n",
       "3                    Assistant Clinical Data Analyst   \n",
       "4                    Lead - Data Analyst / Scientist   \n",
       "5                    Data Analyst / Sr. Data Analyst   \n",
       "6                          Senior Data Analyst - CRM   \n",
       "7            Senior Data Analyst - Supporting Audits   \n",
       "8                Research - Data Analyst / Associate   \n",
       "9                                   SAM Data Analyst   \n",
       "\n",
       "                                          Company Experience  \\\n",
       "0                                     GlobalLogic    4-8 Yrs   \n",
       "1                                        Flipkart    4-6 Yrs   \n",
       "2                            Sejal Consulting Hub    0-3 Yrs   \n",
       "3  Labcorp Drug Development India Private Limited    0-2 Yrs   \n",
       "4                               Axim Technologies  12-14 Yrs   \n",
       "5                                          Vmware    3-6 Yrs   \n",
       "6                                      Gojek Tech    2-5 Yrs   \n",
       "7                                            Visa    5-8 Yrs   \n",
       "8                                     AXL HR Tech    0-2 Yrs   \n",
       "9                                           Nokia    1-2 Yrs   \n",
       "\n",
       "                                            Location  \n",
       "0  Noida, Nagpur, Pune, Gurgaon/Gurugram, Bangalo...  \n",
       "1                                Bengaluru/Bangalore  \n",
       "2  Kolkata, Gurgaon/Gurugram, Bangalore/Bengaluru...  \n",
       "3                                Bangalore/Bengaluru  \n",
       "4                                Bangalore/Bengaluru  \n",
       "5                                Bangalore/Bengaluru  \n",
       "6                                Bangalore/Bengaluru  \n",
       "7                                Bangalore/Bengaluru  \n",
       "8           Mumbai, Delhi / NCR, Bangalore/Bengaluru  \n",
       "9                 Noida, Mumbai, Bangalore/Bengaluru  "
      ]
     },
     "execution_count": 20,
     "metadata": {},
     "output_type": "execute_result"
    }
   ],
   "source": [
    "Jobs = pd.DataFrame({'Job Title' : job, 'Company' : company, 'Experience' : exp, 'Location' : locations})\n",
    "Jobs"
   ]
  },
  {
   "cell_type": "markdown",
   "id": "8c3c2910",
   "metadata": {},
   "source": [
    "# Question.2"
   ]
  },
  {
   "cell_type": "code",
   "execution_count": 28,
   "id": "e1212c48",
   "metadata": {},
   "outputs": [],
   "source": [
    "url = 'https://www.naukri.com/'\n",
    "driver.get(url)"
   ]
  },
  {
   "cell_type": "code",
   "execution_count": 29,
   "id": "eb8b53af",
   "metadata": {},
   "outputs": [
    {
     "data": {
      "text/plain": [
       "<selenium.webdriver.remote.webelement.WebElement (session=\"b3266e5465de049bcc0d9c93eed58f7a\", element=\"26c2e2cb-26ef-4595-aa13-d3b015edbc86\")>"
      ]
     },
     "execution_count": 29,
     "metadata": {},
     "output_type": "execute_result"
    }
   ],
   "source": [
    "#Finding web element for search job bar using xpath\n",
    "search_job = driver.find_element_by_xpath('//input[@class=\"suggestor-input \"]')\n",
    "search_job"
   ]
  },
  {
   "cell_type": "code",
   "execution_count": 30,
   "id": "82a7b05e",
   "metadata": {},
   "outputs": [],
   "source": [
    "#Write on search bar\n",
    "search_job.send_keys('Data Scientist')"
   ]
  },
  {
   "cell_type": "code",
   "execution_count": 31,
   "id": "cbb01e14",
   "metadata": {},
   "outputs": [
    {
     "data": {
      "text/plain": [
       "<selenium.webdriver.remote.webelement.WebElement (session=\"b3266e5465de049bcc0d9c93eed58f7a\", element=\"1bdd0bbd-9d63-4dab-90ad-5c745be825e8\")>"
      ]
     },
     "execution_count": 31,
     "metadata": {},
     "output_type": "execute_result"
    }
   ],
   "source": [
    "#finding web element for search location bar using absolute xpath\n",
    "search_loc = driver.find_element_by_xpath(\"/html/body/div/div[2]/div[3]/div/div/div[3]/div/div/div/input\")\n",
    "search_loc"
   ]
  },
  {
   "cell_type": "code",
   "execution_count": 32,
   "id": "24ccc5c8",
   "metadata": {},
   "outputs": [],
   "source": [
    "search_loc.send_keys(\"Banglore\")"
   ]
  },
  {
   "cell_type": "code",
   "execution_count": 33,
   "id": "b83190a2",
   "metadata": {},
   "outputs": [
    {
     "data": {
      "text/plain": [
       "<selenium.webdriver.remote.webelement.WebElement (session=\"b3266e5465de049bcc0d9c93eed58f7a\", element=\"a48fb019-c13c-4dfd-9ca6-d32af265395a\")>"
      ]
     },
     "execution_count": 33,
     "metadata": {},
     "output_type": "execute_result"
    }
   ],
   "source": [
    "#clicking using xpath.\n",
    "search_button = driver.find_element_by_xpath('//div[@class=\"qsbSubmit\"]')\n",
    "search_button"
   ]
  },
  {
   "cell_type": "code",
   "execution_count": 34,
   "id": "0239af87",
   "metadata": {},
   "outputs": [],
   "source": [
    "search_button.click()\n",
    "\n",
    "time.sleep(3)"
   ]
  },
  {
   "cell_type": "markdown",
   "id": "115a913e",
   "metadata": {},
   "source": [
    "# SCRAPING THE DATA"
   ]
  },
  {
   "cell_type": "markdown",
   "id": "8012a2ac",
   "metadata": {},
   "source": [
    "Extracting job titles"
   ]
  },
  {
   "cell_type": "code",
   "execution_count": 35,
   "id": "eb3346e9",
   "metadata": {},
   "outputs": [
    {
     "data": {
      "text/plain": [
       "20"
      ]
     },
     "execution_count": 35,
     "metadata": {},
     "output_type": "execute_result"
    }
   ],
   "source": [
    "#Extracting all the elements having job titles.\n",
    "title_tags = driver.find_elements_by_xpath('//a[@class=\"title fw500 ellipsis\"]')\n",
    "len(title_tags)"
   ]
  },
  {
   "cell_type": "code",
   "execution_count": 36,
   "id": "c7d62f60",
   "metadata": {},
   "outputs": [
    {
     "data": {
      "text/plain": [
       "20"
      ]
     },
     "execution_count": 36,
     "metadata": {},
     "output_type": "execute_result"
    }
   ],
   "source": [
    "job_title = []\n",
    "\n",
    "for i in title_tags:\n",
    "    job_title.append(i.text)\n",
    "    \n",
    "len(job_title)"
   ]
  },
  {
   "cell_type": "markdown",
   "id": "4f84221e",
   "metadata": {},
   "source": [
    "Extracting company names"
   ]
  },
  {
   "cell_type": "code",
   "execution_count": 37,
   "id": "63706a65",
   "metadata": {},
   "outputs": [
    {
     "data": {
      "text/plain": [
       "20"
      ]
     },
     "execution_count": 37,
     "metadata": {},
     "output_type": "execute_result"
    }
   ],
   "source": [
    "company_tags = driver.find_elements_by_xpath('//a[@class=\"subTitle ellipsis fleft\"]')\n",
    "len(company_tags)"
   ]
  },
  {
   "cell_type": "code",
   "execution_count": 38,
   "id": "44690e3f",
   "metadata": {},
   "outputs": [
    {
     "data": {
      "text/plain": [
       "20"
      ]
     },
     "execution_count": 38,
     "metadata": {},
     "output_type": "execute_result"
    }
   ],
   "source": [
    "company_name = []\n",
    "\n",
    "for i in company_tags:\n",
    "    company_name.append(i.text)\n",
    "    \n",
    "len(company_name)"
   ]
  },
  {
   "cell_type": "markdown",
   "id": "a469bccc",
   "metadata": {},
   "source": [
    "Extracting job location using Parent tag"
   ]
  },
  {
   "cell_type": "code",
   "execution_count": 39,
   "id": "795ce0b1",
   "metadata": {},
   "outputs": [
    {
     "data": {
      "text/plain": [
       "20"
      ]
     },
     "execution_count": 39,
     "metadata": {},
     "output_type": "execute_result"
    }
   ],
   "source": [
    "loc_tags = driver.find_elements_by_xpath('//li[@class=\"fleft grey-text br2 placeHolderLi location\"]')\n",
    "len(loc_tags)"
   ]
  },
  {
   "cell_type": "code",
   "execution_count": 40,
   "id": "ae66e1db",
   "metadata": {},
   "outputs": [
    {
     "data": {
      "text/plain": [
       "20"
      ]
     },
     "execution_count": 40,
     "metadata": {},
     "output_type": "execute_result"
    }
   ],
   "source": [
    "location = []\n",
    "\n",
    "for i in loc_tags:\n",
    "    location.append(i.text)\n",
    "    \n",
    "len(location)"
   ]
  },
  {
   "cell_type": "markdown",
   "id": "cc86542f",
   "metadata": {},
   "source": [
    "Selecting First 10 jobs."
   ]
  },
  {
   "cell_type": "code",
   "execution_count": 41,
   "id": "d565a060",
   "metadata": {},
   "outputs": [],
   "source": [
    "job = job_title[:10]\n",
    "company = company_name[:10]\n",
    "locations = location[:10]"
   ]
  },
  {
   "cell_type": "markdown",
   "id": "84e9b69d",
   "metadata": {},
   "source": [
    "Making DataFrame"
   ]
  },
  {
   "cell_type": "code",
   "execution_count": 42,
   "id": "c9eb6eba",
   "metadata": {},
   "outputs": [
    {
     "data": {
      "text/html": [
       "<div>\n",
       "<style scoped>\n",
       "    .dataframe tbody tr th:only-of-type {\n",
       "        vertical-align: middle;\n",
       "    }\n",
       "\n",
       "    .dataframe tbody tr th {\n",
       "        vertical-align: top;\n",
       "    }\n",
       "\n",
       "    .dataframe thead th {\n",
       "        text-align: right;\n",
       "    }\n",
       "</style>\n",
       "<table border=\"1\" class=\"dataframe\">\n",
       "  <thead>\n",
       "    <tr style=\"text-align: right;\">\n",
       "      <th></th>\n",
       "      <th>Job Title</th>\n",
       "      <th>Company</th>\n",
       "      <th>Location</th>\n",
       "    </tr>\n",
       "  </thead>\n",
       "  <tbody>\n",
       "    <tr>\n",
       "      <th>0</th>\n",
       "      <td>Data Scientist: Advanced Analytics</td>\n",
       "      <td>IBM</td>\n",
       "      <td>Bangalore/Bengaluru</td>\n",
       "    </tr>\n",
       "    <tr>\n",
       "      <th>1</th>\n",
       "      <td>Data Scientist: Advanced Analytics</td>\n",
       "      <td>IBM</td>\n",
       "      <td>Bengaluru/Bangalore</td>\n",
       "    </tr>\n",
       "    <tr>\n",
       "      <th>2</th>\n",
       "      <td>Sr . Data Scientist</td>\n",
       "      <td>Harman Connected Services Corporation India Pvt.</td>\n",
       "      <td>Bangalore/Bengaluru</td>\n",
       "    </tr>\n",
       "    <tr>\n",
       "      <th>3</th>\n",
       "      <td>Senior Data Scientist</td>\n",
       "      <td>Slice</td>\n",
       "      <td>Bangalore/Bengaluru</td>\n",
       "    </tr>\n",
       "    <tr>\n",
       "      <th>4</th>\n",
       "      <td>Sr Data Scientist</td>\n",
       "      <td>Siemens</td>\n",
       "      <td>Bangalore/Bengaluru</td>\n",
       "    </tr>\n",
       "    <tr>\n",
       "      <th>5</th>\n",
       "      <td>Senior Data Scientist</td>\n",
       "      <td>Dell</td>\n",
       "      <td>Bangalore/Bengaluru</td>\n",
       "    </tr>\n",
       "    <tr>\n",
       "      <th>6</th>\n",
       "      <td>Senior Data Scientist</td>\n",
       "      <td>Dell</td>\n",
       "      <td>Bangalore/Bengaluru</td>\n",
       "    </tr>\n",
       "    <tr>\n",
       "      <th>7</th>\n",
       "      <td>Senior Data Scientist - Python/Machine Learnin...</td>\n",
       "      <td>Altimax Business Solutions</td>\n",
       "      <td>Mumbai, Hyderabad/Secunderabad, Pune, Bangalor...</td>\n",
       "    </tr>\n",
       "    <tr>\n",
       "      <th>8</th>\n",
       "      <td>Senior/Lead Data Scientist - (Revenue Management)</td>\n",
       "      <td>o9 Solutions Management India Private Limited</td>\n",
       "      <td>Bangalore/Bengaluru</td>\n",
       "    </tr>\n",
       "    <tr>\n",
       "      <th>9</th>\n",
       "      <td>Senior/Lead - Data Scientist (Supply Chain)</td>\n",
       "      <td>o9 Solutions Management India Private Limited</td>\n",
       "      <td>Bangalore/Bengaluru</td>\n",
       "    </tr>\n",
       "  </tbody>\n",
       "</table>\n",
       "</div>"
      ],
      "text/plain": [
       "                                           Job Title  \\\n",
       "0                 Data Scientist: Advanced Analytics   \n",
       "1                 Data Scientist: Advanced Analytics   \n",
       "2                                Sr . Data Scientist   \n",
       "3                              Senior Data Scientist   \n",
       "4                                  Sr Data Scientist   \n",
       "5                              Senior Data Scientist   \n",
       "6                              Senior Data Scientist   \n",
       "7  Senior Data Scientist - Python/Machine Learnin...   \n",
       "8  Senior/Lead Data Scientist - (Revenue Management)   \n",
       "9        Senior/Lead - Data Scientist (Supply Chain)   \n",
       "\n",
       "                                            Company  \\\n",
       "0                                               IBM   \n",
       "1                                               IBM   \n",
       "2  Harman Connected Services Corporation India Pvt.   \n",
       "3                                             Slice   \n",
       "4                                           Siemens   \n",
       "5                                              Dell   \n",
       "6                                              Dell   \n",
       "7                        Altimax Business Solutions   \n",
       "8     o9 Solutions Management India Private Limited   \n",
       "9     o9 Solutions Management India Private Limited   \n",
       "\n",
       "                                            Location  \n",
       "0                                Bangalore/Bengaluru  \n",
       "1                                Bengaluru/Bangalore  \n",
       "2                                Bangalore/Bengaluru  \n",
       "3                                Bangalore/Bengaluru  \n",
       "4                                Bangalore/Bengaluru  \n",
       "5                                Bangalore/Bengaluru  \n",
       "6                                Bangalore/Bengaluru  \n",
       "7  Mumbai, Hyderabad/Secunderabad, Pune, Bangalor...  \n",
       "8                                Bangalore/Bengaluru  \n",
       "9                                Bangalore/Bengaluru  "
      ]
     },
     "execution_count": 42,
     "metadata": {},
     "output_type": "execute_result"
    }
   ],
   "source": [
    "Dsjobs = pd.DataFrame({'Job Title' : job, 'Company' : company, 'Location' : locations})\n",
    "Dsjobs"
   ]
  },
  {
   "cell_type": "markdown",
   "id": "c2dc614d",
   "metadata": {},
   "source": [
    "# Question.3"
   ]
  },
  {
   "cell_type": "code",
   "execution_count": 43,
   "id": "71f74f5e",
   "metadata": {},
   "outputs": [],
   "source": [
    "url = 'https://www.naukri.com/'\n",
    "driver.get(url)"
   ]
  },
  {
   "cell_type": "code",
   "execution_count": 44,
   "id": "41ad3ab5",
   "metadata": {},
   "outputs": [
    {
     "data": {
      "text/plain": [
       "<selenium.webdriver.remote.webelement.WebElement (session=\"b3266e5465de049bcc0d9c93eed58f7a\", element=\"24a84ed1-3ebd-4756-825a-78de2a5b40ba\")>"
      ]
     },
     "execution_count": 44,
     "metadata": {},
     "output_type": "execute_result"
    }
   ],
   "source": [
    "#Finding web element for search job bar using xpath\n",
    "search_job = driver.find_element_by_xpath('//input[@class=\"suggestor-input \"]')\n",
    "search_job"
   ]
  },
  {
   "cell_type": "code",
   "execution_count": 45,
   "id": "19b3ba20",
   "metadata": {},
   "outputs": [],
   "source": [
    "#Write on search bar\n",
    "search_job.send_keys('Data Scientist')"
   ]
  },
  {
   "cell_type": "code",
   "execution_count": 46,
   "id": "9175bde1",
   "metadata": {},
   "outputs": [
    {
     "data": {
      "text/plain": [
       "<selenium.webdriver.remote.webelement.WebElement (session=\"b3266e5465de049bcc0d9c93eed58f7a\", element=\"5f94d471-02bb-4242-9ea0-006cae6d559e\")>"
      ]
     },
     "execution_count": 46,
     "metadata": {},
     "output_type": "execute_result"
    }
   ],
   "source": [
    "#clicking using xpath.\n",
    "search_button = driver.find_element_by_xpath('//div[@class=\"qsbSubmit\"]')\n",
    "search_button"
   ]
  },
  {
   "cell_type": "code",
   "execution_count": 47,
   "id": "3f1f83a1",
   "metadata": {},
   "outputs": [],
   "source": [
    "search_button.click()\n",
    "\n",
    "time.sleep(3)"
   ]
  },
  {
   "cell_type": "code",
   "execution_count": 48,
   "id": "a852a4fd",
   "metadata": {},
   "outputs": [],
   "source": [
    "#Selecting Location Filter\n",
    "locc = driver.find_element_by_xpath('//div[@class=\"mt-8 chckBoxCont\"][3]')"
   ]
  },
  {
   "cell_type": "code",
   "execution_count": 49,
   "id": "7c090c58",
   "metadata": {},
   "outputs": [],
   "source": [
    "locc.click()"
   ]
  },
  {
   "cell_type": "code",
   "execution_count": 50,
   "id": "400c76d4",
   "metadata": {},
   "outputs": [],
   "source": [
    "#Selecting Salary Filter\n",
    "sall = driver.find_element_by_xpath('/html/body/div[1]/div[3]/div[2]/section[1]/div[2]/div[2]/div[2]/div[1]/label/i')"
   ]
  },
  {
   "cell_type": "code",
   "execution_count": 51,
   "id": "dd7de5fc",
   "metadata": {},
   "outputs": [],
   "source": [
    "sall.click()"
   ]
  },
  {
   "cell_type": "markdown",
   "id": "a8dc8575",
   "metadata": {},
   "source": [
    "# SCRAPING THE DATA"
   ]
  },
  {
   "cell_type": "markdown",
   "id": "1d5bd29e",
   "metadata": {},
   "source": [
    "Extracting job titles"
   ]
  },
  {
   "cell_type": "code",
   "execution_count": 52,
   "id": "52a2264c",
   "metadata": {},
   "outputs": [
    {
     "data": {
      "text/plain": [
       "20"
      ]
     },
     "execution_count": 52,
     "metadata": {},
     "output_type": "execute_result"
    }
   ],
   "source": [
    "#Extracting all the elements having job titles.\n",
    "title_tags = driver.find_elements_by_xpath('//a[@class=\"title fw500 ellipsis\"]')\n",
    "len(title_tags)"
   ]
  },
  {
   "cell_type": "code",
   "execution_count": 53,
   "id": "987e0cde",
   "metadata": {},
   "outputs": [
    {
     "data": {
      "text/plain": [
       "20"
      ]
     },
     "execution_count": 53,
     "metadata": {},
     "output_type": "execute_result"
    }
   ],
   "source": [
    "job_title = []\n",
    "\n",
    "for i in title_tags:\n",
    "    job_title.append(i.text)\n",
    "    \n",
    "len(job_title)"
   ]
  },
  {
   "cell_type": "markdown",
   "id": "b7735576",
   "metadata": {},
   "source": [
    "Extracting company names"
   ]
  },
  {
   "cell_type": "code",
   "execution_count": 54,
   "id": "7d71ddee",
   "metadata": {},
   "outputs": [
    {
     "data": {
      "text/plain": [
       "20"
      ]
     },
     "execution_count": 54,
     "metadata": {},
     "output_type": "execute_result"
    }
   ],
   "source": [
    "company_tags = driver.find_elements_by_xpath('//a[@class=\"subTitle ellipsis fleft\"]')\n",
    "len(company_tags)"
   ]
  },
  {
   "cell_type": "code",
   "execution_count": 55,
   "id": "1ddaea53",
   "metadata": {},
   "outputs": [
    {
     "data": {
      "text/plain": [
       "20"
      ]
     },
     "execution_count": 55,
     "metadata": {},
     "output_type": "execute_result"
    }
   ],
   "source": [
    "company_name = []\n",
    "\n",
    "for i in company_tags:\n",
    "    company_name.append(i.text)\n",
    "    \n",
    "len(company_name)"
   ]
  },
  {
   "cell_type": "markdown",
   "id": "67232773",
   "metadata": {},
   "source": [
    "Extracting job location using Parent tag"
   ]
  },
  {
   "cell_type": "code",
   "execution_count": 56,
   "id": "f29f07c9",
   "metadata": {},
   "outputs": [
    {
     "data": {
      "text/plain": [
       "20"
      ]
     },
     "execution_count": 56,
     "metadata": {},
     "output_type": "execute_result"
    }
   ],
   "source": [
    "loc_tags = driver.find_elements_by_xpath('//li[@class=\"fleft grey-text br2 placeHolderLi location\"]')\n",
    "len(loc_tags)"
   ]
  },
  {
   "cell_type": "code",
   "execution_count": 57,
   "id": "92e07672",
   "metadata": {},
   "outputs": [
    {
     "data": {
      "text/plain": [
       "20"
      ]
     },
     "execution_count": 57,
     "metadata": {},
     "output_type": "execute_result"
    }
   ],
   "source": [
    "location = []\n",
    "\n",
    "for i in loc_tags:\n",
    "    location.append(i.text)\n",
    "    \n",
    "len(location)"
   ]
  },
  {
   "cell_type": "markdown",
   "id": "23f38619",
   "metadata": {},
   "source": [
    "Extracting Experience using Parent tag"
   ]
  },
  {
   "cell_type": "code",
   "execution_count": 58,
   "id": "12041f8d",
   "metadata": {},
   "outputs": [
    {
     "data": {
      "text/plain": [
       "20"
      ]
     },
     "execution_count": 58,
     "metadata": {},
     "output_type": "execute_result"
    }
   ],
   "source": [
    "exp_tags = driver.find_elements_by_xpath('//li[@class=\"fleft grey-text br2 placeHolderLi experience\"]')\n",
    "len(exp_tags)"
   ]
  },
  {
   "cell_type": "code",
   "execution_count": 59,
   "id": "c2e631c4",
   "metadata": {},
   "outputs": [
    {
     "data": {
      "text/plain": [
       "20"
      ]
     },
     "execution_count": 59,
     "metadata": {},
     "output_type": "execute_result"
    }
   ],
   "source": [
    "experience = []\n",
    "\n",
    "for i in exp_tags:\n",
    "    experience.append(i.text)\n",
    "    \n",
    "len(experience)"
   ]
  },
  {
   "cell_type": "markdown",
   "id": "2166549b",
   "metadata": {},
   "source": [
    "Selecting First 10 jobs."
   ]
  },
  {
   "cell_type": "code",
   "execution_count": 60,
   "id": "7cfbe974",
   "metadata": {},
   "outputs": [],
   "source": [
    "job = job_title[:10]\n",
    "company = company_name[:10]\n",
    "locations = location[:10]\n",
    "exp = experience[:10]"
   ]
  },
  {
   "cell_type": "markdown",
   "id": "8f0b4937",
   "metadata": {},
   "source": [
    "Making DataFrame"
   ]
  },
  {
   "cell_type": "code",
   "execution_count": 61,
   "id": "02bd8607",
   "metadata": {},
   "outputs": [
    {
     "data": {
      "text/html": [
       "<div>\n",
       "<style scoped>\n",
       "    .dataframe tbody tr th:only-of-type {\n",
       "        vertical-align: middle;\n",
       "    }\n",
       "\n",
       "    .dataframe tbody tr th {\n",
       "        vertical-align: top;\n",
       "    }\n",
       "\n",
       "    .dataframe thead th {\n",
       "        text-align: right;\n",
       "    }\n",
       "</style>\n",
       "<table border=\"1\" class=\"dataframe\">\n",
       "  <thead>\n",
       "    <tr style=\"text-align: right;\">\n",
       "      <th></th>\n",
       "      <th>Job Title</th>\n",
       "      <th>Company</th>\n",
       "      <th>Experience</th>\n",
       "      <th>Location</th>\n",
       "    </tr>\n",
       "  </thead>\n",
       "  <tbody>\n",
       "    <tr>\n",
       "      <th>0</th>\n",
       "      <td>Data Scientist / Senior DS/ Team Lead</td>\n",
       "      <td>NebulARC Technologies Private Limited</td>\n",
       "      <td>0-4 Yrs</td>\n",
       "      <td>Mumbai, Gurgaon/Gurugram(Cyber City +1)</td>\n",
       "    </tr>\n",
       "    <tr>\n",
       "      <th>1</th>\n",
       "      <td>Job Opportunity || Data Scientist || HCL Techn...</td>\n",
       "      <td>HCL</td>\n",
       "      <td>2-6 Yrs</td>\n",
       "      <td>Delhi / NCR</td>\n",
       "    </tr>\n",
       "    <tr>\n",
       "      <th>2</th>\n",
       "      <td>Hiring For Data Analyst / Data Scientist</td>\n",
       "      <td>Careerera</td>\n",
       "      <td>2-5 Yrs</td>\n",
       "      <td>Noida(Sector-59 Noida)</td>\n",
       "    </tr>\n",
       "    <tr>\n",
       "      <th>3</th>\n",
       "      <td>Senior Data Scientist I</td>\n",
       "      <td>Delhivery</td>\n",
       "      <td>3-7 Yrs</td>\n",
       "      <td>Gurgaon/Gurugram</td>\n",
       "    </tr>\n",
       "    <tr>\n",
       "      <th>4</th>\n",
       "      <td>Data Scientist</td>\n",
       "      <td>Core Diagnostics Private Limited</td>\n",
       "      <td>2-7 Yrs</td>\n",
       "      <td>Gurgaon/Gurugram(Uday Nagar)</td>\n",
       "    </tr>\n",
       "    <tr>\n",
       "      <th>5</th>\n",
       "      <td>Data Scientist | Python | Machine Learning | D...</td>\n",
       "      <td>Schlesinger Group</td>\n",
       "      <td>0-3 Yrs</td>\n",
       "      <td>Noida, Gurgaon/Gurugram, Delhi / NCR</td>\n",
       "    </tr>\n",
       "    <tr>\n",
       "      <th>6</th>\n",
       "      <td>Openings For Jr/mid/Sr level data Scientists</td>\n",
       "      <td>Pluto seven business solutions (p) limited</td>\n",
       "      <td>2-6 Yrs</td>\n",
       "      <td>Kolkata, Hyderabad/Secunderabad, Pune, Ahmedab...</td>\n",
       "    </tr>\n",
       "    <tr>\n",
       "      <th>7</th>\n",
       "      <td>Data Scientist</td>\n",
       "      <td>T &amp; A Solutions</td>\n",
       "      <td>2-6 Yrs</td>\n",
       "      <td>Gurgaon/Gurugram</td>\n",
       "    </tr>\n",
       "    <tr>\n",
       "      <th>8</th>\n",
       "      <td>Urgent Hiring For Data Scientist</td>\n",
       "      <td>Mount Talent Consulting Private Limited</td>\n",
       "      <td>1-6 Yrs</td>\n",
       "      <td>Gurgaon/Gurugram, Bangalore/Bengaluru</td>\n",
       "    </tr>\n",
       "    <tr>\n",
       "      <th>9</th>\n",
       "      <td>Urgent Hiring For Data Scientist</td>\n",
       "      <td>Mount Talent Consulting Private Limited</td>\n",
       "      <td>1-6 Yrs</td>\n",
       "      <td>Gurgaon/Gurugram, Bangalore/Bengaluru</td>\n",
       "    </tr>\n",
       "  </tbody>\n",
       "</table>\n",
       "</div>"
      ],
      "text/plain": [
       "                                           Job Title  \\\n",
       "0              Data Scientist / Senior DS/ Team Lead   \n",
       "1  Job Opportunity || Data Scientist || HCL Techn...   \n",
       "2           Hiring For Data Analyst / Data Scientist   \n",
       "3                            Senior Data Scientist I   \n",
       "4                                     Data Scientist   \n",
       "5  Data Scientist | Python | Machine Learning | D...   \n",
       "6       Openings For Jr/mid/Sr level data Scientists   \n",
       "7                                     Data Scientist   \n",
       "8                   Urgent Hiring For Data Scientist   \n",
       "9                   Urgent Hiring For Data Scientist   \n",
       "\n",
       "                                      Company Experience  \\\n",
       "0       NebulARC Technologies Private Limited    0-4 Yrs   \n",
       "1                                         HCL    2-6 Yrs   \n",
       "2                                   Careerera    2-5 Yrs   \n",
       "3                                   Delhivery    3-7 Yrs   \n",
       "4            Core Diagnostics Private Limited    2-7 Yrs   \n",
       "5                           Schlesinger Group    0-3 Yrs   \n",
       "6  Pluto seven business solutions (p) limited    2-6 Yrs   \n",
       "7                             T & A Solutions    2-6 Yrs   \n",
       "8     Mount Talent Consulting Private Limited    1-6 Yrs   \n",
       "9     Mount Talent Consulting Private Limited    1-6 Yrs   \n",
       "\n",
       "                                            Location  \n",
       "0            Mumbai, Gurgaon/Gurugram(Cyber City +1)  \n",
       "1                                        Delhi / NCR  \n",
       "2                             Noida(Sector-59 Noida)  \n",
       "3                                   Gurgaon/Gurugram  \n",
       "4                       Gurgaon/Gurugram(Uday Nagar)  \n",
       "5               Noida, Gurgaon/Gurugram, Delhi / NCR  \n",
       "6  Kolkata, Hyderabad/Secunderabad, Pune, Ahmedab...  \n",
       "7                                   Gurgaon/Gurugram  \n",
       "8              Gurgaon/Gurugram, Bangalore/Bengaluru  \n",
       "9              Gurgaon/Gurugram, Bangalore/Bengaluru  "
      ]
     },
     "execution_count": 61,
     "metadata": {},
     "output_type": "execute_result"
    }
   ],
   "source": [
    "DSJobs = pd.DataFrame({'Job Title' : job, 'Company' : company, 'Experience' : exp, 'Location' : locations})\n",
    "DSJobs"
   ]
  },
  {
   "cell_type": "markdown",
   "id": "3ae66c87",
   "metadata": {},
   "source": [
    "# Question.4"
   ]
  },
  {
   "cell_type": "code",
   "execution_count": 62,
   "id": "c95f2fa3",
   "metadata": {},
   "outputs": [],
   "source": [
    "url = 'https://www.flipkart.com/'\n",
    "driver.get(url)"
   ]
  },
  {
   "cell_type": "code",
   "execution_count": 63,
   "id": "9ec1541d",
   "metadata": {},
   "outputs": [],
   "source": [
    "#Cancelling the login popup that appears.\n",
    "cancel = driver.find_element_by_xpath('//button[@class=\"_2KpZ6l _2doB4z\"]')\n",
    "cancel.click()"
   ]
  },
  {
   "cell_type": "code",
   "execution_count": 64,
   "id": "f3c3c6f2",
   "metadata": {},
   "outputs": [],
   "source": [
    "search_product = driver.find_element_by_xpath('//input[@class=\"_3704LK\"]')"
   ]
  },
  {
   "cell_type": "code",
   "execution_count": 65,
   "id": "dc5e686c",
   "metadata": {},
   "outputs": [],
   "source": [
    "search_product.send_keys('Sunglasses')"
   ]
  },
  {
   "cell_type": "code",
   "execution_count": 66,
   "id": "12566514",
   "metadata": {},
   "outputs": [],
   "source": [
    "search_click = driver.find_element_by_xpath('//button[@class=\"L0Z3Pu\"]')"
   ]
  },
  {
   "cell_type": "code",
   "execution_count": 67,
   "id": "f38bcca5",
   "metadata": {},
   "outputs": [],
   "source": [
    "search_click.click()\n",
    "\n",
    "time.sleep(3)"
   ]
  },
  {
   "cell_type": "markdown",
   "id": "8335954d",
   "metadata": {},
   "source": [
    "# Scraping The Element"
   ]
  },
  {
   "cell_type": "markdown",
   "id": "caeaa5f1",
   "metadata": {},
   "source": [
    "Extracting Data from Page1"
   ]
  },
  {
   "cell_type": "code",
   "execution_count": 68,
   "id": "20520d91",
   "metadata": {},
   "outputs": [],
   "source": [
    "brand = driver.find_elements_by_xpath('//div[@class=\"_2WkVRV\"]')[:40]"
   ]
  },
  {
   "cell_type": "code",
   "execution_count": 69,
   "id": "f7fb1fbc",
   "metadata": {},
   "outputs": [
    {
     "data": {
      "text/plain": [
       "40"
      ]
     },
     "execution_count": 69,
     "metadata": {},
     "output_type": "execute_result"
    }
   ],
   "source": [
    "brand_name1 = []\n",
    "\n",
    "for i in brand:\n",
    "    brand_name1.append(i.text)\n",
    "    \n",
    "len(brand_name1)"
   ]
  },
  {
   "cell_type": "code",
   "execution_count": 70,
   "id": "3f4b3f5b",
   "metadata": {},
   "outputs": [],
   "source": [
    "pd = driver.find_elements_by_xpath('//a[@class=\"IRpwTa\"]')[:40]"
   ]
  },
  {
   "cell_type": "code",
   "execution_count": 71,
   "id": "32345180",
   "metadata": {},
   "outputs": [
    {
     "data": {
      "text/plain": [
       "40"
      ]
     },
     "execution_count": 71,
     "metadata": {},
     "output_type": "execute_result"
    }
   ],
   "source": [
    "description1 = []\n",
    "\n",
    "for i in pd:\n",
    "    description1.append(i.text)\n",
    "    \n",
    "len(description1)"
   ]
  },
  {
   "cell_type": "code",
   "execution_count": 72,
   "id": "b6fcadf3",
   "metadata": {},
   "outputs": [],
   "source": [
    "price = driver.find_elements_by_xpath('//div[@class=\"_30jeq3\"]')[:40]"
   ]
  },
  {
   "cell_type": "code",
   "execution_count": 73,
   "id": "7cb90afe",
   "metadata": {},
   "outputs": [
    {
     "data": {
      "text/plain": [
       "40"
      ]
     },
     "execution_count": 73,
     "metadata": {},
     "output_type": "execute_result"
    }
   ],
   "source": [
    "price1 = []\n",
    "\n",
    "for i in price:\n",
    "    price1.append(i.text)\n",
    "    \n",
    "len(price1)"
   ]
  },
  {
   "cell_type": "code",
   "execution_count": 74,
   "id": "fcd8552c",
   "metadata": {},
   "outputs": [],
   "source": [
    "dis = driver.find_elements_by_xpath('//div[@class=\"_3Ay6Sb\"]')[:40]"
   ]
  },
  {
   "cell_type": "code",
   "execution_count": 75,
   "id": "2b889437",
   "metadata": {},
   "outputs": [
    {
     "data": {
      "text/plain": [
       "40"
      ]
     },
     "execution_count": 75,
     "metadata": {},
     "output_type": "execute_result"
    }
   ],
   "source": [
    "discount1 = []\n",
    "\n",
    "for i in dis:\n",
    "    discount1.append(i.text)\n",
    "    \n",
    "len(discount1)"
   ]
  },
  {
   "cell_type": "markdown",
   "id": "2bac508e",
   "metadata": {},
   "source": [
    "Moving to Next Page i.e. Page2"
   ]
  },
  {
   "cell_type": "code",
   "execution_count": 76,
   "id": "16ddee04",
   "metadata": {},
   "outputs": [],
   "source": [
    "try:\n",
    "    next_pg = driver.find_element_by_xpath('//a[@class=\"_1LKTO3\"][2]')\n",
    "    next_pg.click()\n",
    "except:\n",
    "    next_pg = driver.find_element_by_xpath('//a[@class=\"_1LKTO3\"]')  \n",
    "    next_pg.click()"
   ]
  },
  {
   "cell_type": "code",
   "execution_count": 77,
   "id": "885a4934",
   "metadata": {},
   "outputs": [],
   "source": [
    "next_pg.click()"
   ]
  },
  {
   "cell_type": "markdown",
   "id": "1ea20815",
   "metadata": {},
   "source": [
    "Extracting Data from Page2"
   ]
  },
  {
   "cell_type": "code",
   "execution_count": 78,
   "id": "059328de",
   "metadata": {},
   "outputs": [
    {
     "data": {
      "text/plain": [
       "40"
      ]
     },
     "execution_count": 78,
     "metadata": {},
     "output_type": "execute_result"
    }
   ],
   "source": [
    "brand = driver.find_elements_by_xpath('//div[@class=\"_2WkVRV\"]')[:40]\n",
    "\n",
    "brand_name2 = []\n",
    "\n",
    "for i in brand:\n",
    "    brand_name2.append(i.text)\n",
    "    \n",
    "len(brand_name2)"
   ]
  },
  {
   "cell_type": "code",
   "execution_count": 92,
   "id": "33ea2ea7",
   "metadata": {},
   "outputs": [
    {
     "data": {
      "text/plain": [
       "40"
      ]
     },
     "execution_count": 92,
     "metadata": {},
     "output_type": "execute_result"
    }
   ],
   "source": [
    "pd = driver.find_elements_by_xpath('//a[@class=\"IRpwTa\"]')[:40]\n",
    "\n",
    "description2 = []\n",
    "\n",
    "for i in pd:\n",
    "    description2.append(i.text)\n",
    "    \n",
    "len(description2)"
   ]
  },
  {
   "cell_type": "code",
   "execution_count": 80,
   "id": "1b6fc325",
   "metadata": {},
   "outputs": [
    {
     "data": {
      "text/plain": [
       "40"
      ]
     },
     "execution_count": 80,
     "metadata": {},
     "output_type": "execute_result"
    }
   ],
   "source": [
    "price = driver.find_elements_by_xpath('//div[@class=\"_30jeq3\"]')[:40]\n",
    "\n",
    "price2 = []\n",
    "\n",
    "for i in price:\n",
    "    price2.append(i.text)\n",
    "    \n",
    "len(price2)"
   ]
  },
  {
   "cell_type": "code",
   "execution_count": 81,
   "id": "bdc20a42",
   "metadata": {},
   "outputs": [
    {
     "data": {
      "text/plain": [
       "40"
      ]
     },
     "execution_count": 81,
     "metadata": {},
     "output_type": "execute_result"
    }
   ],
   "source": [
    "dis = driver.find_elements_by_xpath('//div[@class=\"_3Ay6Sb\"]')[:40]\n",
    "\n",
    "discount2 = []\n",
    "\n",
    "for i in dis:\n",
    "    discount2.append(i.text)\n",
    "    \n",
    "len(discount2)"
   ]
  },
  {
   "cell_type": "markdown",
   "id": "2c4fbfca",
   "metadata": {},
   "source": [
    "Moving to Next Page i.e. Page3"
   ]
  },
  {
   "cell_type": "code",
   "execution_count": 82,
   "id": "bc347a02",
   "metadata": {},
   "outputs": [],
   "source": [
    "try:\n",
    "    next_pg = driver.find_element_by_xpath('//a[@class=\"_1LKTO3\"][2]') #for next page using indexing\n",
    "    next_pg.click()\n",
    "except:\n",
    "    next_pg = driver.find_element_by_xpath('//a[@class=\"_1LKTO3\"]')  \n",
    "    next_pg.click()"
   ]
  },
  {
   "cell_type": "code",
   "execution_count": 77,
   "id": "6e7be759",
   "metadata": {},
   "outputs": [],
   "source": [
    "next_pg.click()"
   ]
  },
  {
   "cell_type": "markdown",
   "id": "c0fea82d",
   "metadata": {},
   "source": [
    "Extracting Data from Page3"
   ]
  },
  {
   "cell_type": "code",
   "execution_count": 83,
   "id": "401bfe44",
   "metadata": {},
   "outputs": [
    {
     "data": {
      "text/plain": [
       "20"
      ]
     },
     "execution_count": 83,
     "metadata": {},
     "output_type": "execute_result"
    }
   ],
   "source": [
    "brand = driver.find_elements_by_xpath('//div[@class=\"_2WkVRV\"]')[:20]\n",
    "\n",
    "brand_name3 = []\n",
    "\n",
    "for i in brand:\n",
    "    brand_name3.append(i.text)\n",
    "    \n",
    "len(brand_name3)"
   ]
  },
  {
   "cell_type": "code",
   "execution_count": 84,
   "id": "9e740102",
   "metadata": {},
   "outputs": [
    {
     "data": {
      "text/plain": [
       "20"
      ]
     },
     "execution_count": 84,
     "metadata": {},
     "output_type": "execute_result"
    }
   ],
   "source": [
    "pd = driver.find_elements_by_xpath('//a[@class=\"IRpwTa\"]')[:20]\n",
    "\n",
    "description3 = []\n",
    "\n",
    "for i in pd:\n",
    "    description3.append(i.text)\n",
    "    \n",
    "len(description3)"
   ]
  },
  {
   "cell_type": "code",
   "execution_count": 85,
   "id": "4f9fbd98",
   "metadata": {},
   "outputs": [
    {
     "data": {
      "text/plain": [
       "20"
      ]
     },
     "execution_count": 85,
     "metadata": {},
     "output_type": "execute_result"
    }
   ],
   "source": [
    "price = driver.find_elements_by_xpath('//div[@class=\"_30jeq3\"]')[:20]\n",
    "\n",
    "price3 = []\n",
    "\n",
    "for i in price:\n",
    "    price3.append(i.text)\n",
    "    \n",
    "len(price3)"
   ]
  },
  {
   "cell_type": "code",
   "execution_count": 86,
   "id": "87012839",
   "metadata": {},
   "outputs": [
    {
     "data": {
      "text/plain": [
       "20"
      ]
     },
     "execution_count": 86,
     "metadata": {},
     "output_type": "execute_result"
    }
   ],
   "source": [
    "dis = driver.find_elements_by_xpath('//div[@class=\"_3Ay6Sb\"]')[:20]\n",
    "\n",
    "discount3 = []\n",
    "\n",
    "for i in dis:\n",
    "    discount3.append(i.text)\n",
    "    \n",
    "len(discount3)"
   ]
  },
  {
   "cell_type": "markdown",
   "id": "aa8106aa",
   "metadata": {},
   "source": [
    "Adding all the lists together"
   ]
  },
  {
   "cell_type": "code",
   "execution_count": 87,
   "id": "736a12aa",
   "metadata": {},
   "outputs": [
    {
     "data": {
      "text/plain": [
       "100"
      ]
     },
     "execution_count": 87,
     "metadata": {},
     "output_type": "execute_result"
    }
   ],
   "source": [
    "brand_name = brand_name1 + brand_name2 + brand_name3\n",
    "len(brand_name)"
   ]
  },
  {
   "cell_type": "code",
   "execution_count": 93,
   "id": "bec45236",
   "metadata": {},
   "outputs": [
    {
     "data": {
      "text/plain": [
       "100"
      ]
     },
     "execution_count": 93,
     "metadata": {},
     "output_type": "execute_result"
    }
   ],
   "source": [
    "description = description1 + description2 + description3\n",
    "len(description)"
   ]
  },
  {
   "cell_type": "code",
   "execution_count": 89,
   "id": "c83edef4",
   "metadata": {},
   "outputs": [
    {
     "data": {
      "text/plain": [
       "100"
      ]
     },
     "execution_count": 89,
     "metadata": {},
     "output_type": "execute_result"
    }
   ],
   "source": [
    "prices = price1 + price2 + price3\n",
    "len(prices)"
   ]
  },
  {
   "cell_type": "code",
   "execution_count": 90,
   "id": "e6925d2e",
   "metadata": {},
   "outputs": [
    {
     "data": {
      "text/plain": [
       "100"
      ]
     },
     "execution_count": 90,
     "metadata": {},
     "output_type": "execute_result"
    }
   ],
   "source": [
    "discount = discount1 + discount2 + discount3\n",
    "len(discount)"
   ]
  },
  {
   "cell_type": "markdown",
   "id": "8470553b",
   "metadata": {},
   "source": [
    "Making DataFrame"
   ]
  },
  {
   "cell_type": "code",
   "execution_count": 95,
   "id": "b0aa50aa",
   "metadata": {},
   "outputs": [],
   "source": [
    "import pandas as pd"
   ]
  },
  {
   "cell_type": "code",
   "execution_count": 96,
   "id": "ef24636f",
   "metadata": {
    "scrolled": true
   },
   "outputs": [
    {
     "data": {
      "text/html": [
       "<div>\n",
       "<style scoped>\n",
       "    .dataframe tbody tr th:only-of-type {\n",
       "        vertical-align: middle;\n",
       "    }\n",
       "\n",
       "    .dataframe tbody tr th {\n",
       "        vertical-align: top;\n",
       "    }\n",
       "\n",
       "    .dataframe thead th {\n",
       "        text-align: right;\n",
       "    }\n",
       "</style>\n",
       "<table border=\"1\" class=\"dataframe\">\n",
       "  <thead>\n",
       "    <tr style=\"text-align: right;\">\n",
       "      <th></th>\n",
       "      <th>Brand Name</th>\n",
       "      <th>Brand Description</th>\n",
       "      <th>Price</th>\n",
       "      <th>Discount</th>\n",
       "    </tr>\n",
       "  </thead>\n",
       "  <tbody>\n",
       "    <tr>\n",
       "      <th>0</th>\n",
       "      <td>VILLAIN</td>\n",
       "      <td>Others Retro Square Sunglasses (Free Size)</td>\n",
       "      <td>₹549</td>\n",
       "      <td>26% off</td>\n",
       "    </tr>\n",
       "    <tr>\n",
       "      <th>1</th>\n",
       "      <td>SKYZA INDIA</td>\n",
       "      <td>Polarized, UV Protection Sports Sunglasses (Fr...</td>\n",
       "      <td>₹495</td>\n",
       "      <td>72% off</td>\n",
       "    </tr>\n",
       "    <tr>\n",
       "      <th>2</th>\n",
       "      <td>PIRASO</td>\n",
       "      <td>UV Protection Aviator Sunglasses (54)</td>\n",
       "      <td>₹200</td>\n",
       "      <td>87% off</td>\n",
       "    </tr>\n",
       "    <tr>\n",
       "      <th>3</th>\n",
       "      <td>Fastrack</td>\n",
       "      <td>UV Protection Wayfarer Sunglasses (Free Size)</td>\n",
       "      <td>₹759</td>\n",
       "      <td>15% off</td>\n",
       "    </tr>\n",
       "    <tr>\n",
       "      <th>4</th>\n",
       "      <td>Elligator</td>\n",
       "      <td>UV Protection Round Sunglasses (54)</td>\n",
       "      <td>₹248</td>\n",
       "      <td>90% off</td>\n",
       "    </tr>\n",
       "    <tr>\n",
       "      <th>...</th>\n",
       "      <td>...</td>\n",
       "      <td>...</td>\n",
       "      <td>...</td>\n",
       "      <td>...</td>\n",
       "    </tr>\n",
       "    <tr>\n",
       "      <th>95</th>\n",
       "      <td>AISLIN</td>\n",
       "      <td>UV Protection, Gradient Wayfarer Sunglasses (60)</td>\n",
       "      <td>₹675</td>\n",
       "      <td>68% off</td>\n",
       "    </tr>\n",
       "    <tr>\n",
       "      <th>96</th>\n",
       "      <td>kingsunglasses</td>\n",
       "      <td>UV Protection Rectangular Sunglasses (Free Size)</td>\n",
       "      <td>₹192</td>\n",
       "      <td>82% off</td>\n",
       "    </tr>\n",
       "    <tr>\n",
       "      <th>97</th>\n",
       "      <td>hipe</td>\n",
       "      <td>UV Protection, Gradient, Mirrored, Riding Glas...</td>\n",
       "      <td>₹189</td>\n",
       "      <td>85% off</td>\n",
       "    </tr>\n",
       "    <tr>\n",
       "      <th>98</th>\n",
       "      <td>ROZZETTA CRAFT</td>\n",
       "      <td>UV Protection Round Sunglasses (Free Size)</td>\n",
       "      <td>₹426</td>\n",
       "      <td>84% off</td>\n",
       "    </tr>\n",
       "    <tr>\n",
       "      <th>99</th>\n",
       "      <td>AISLIN</td>\n",
       "      <td>UV Protection, Gradient Cat-eye Sunglasses (61)</td>\n",
       "      <td>₹459</td>\n",
       "      <td>73% off</td>\n",
       "    </tr>\n",
       "  </tbody>\n",
       "</table>\n",
       "<p>100 rows × 4 columns</p>\n",
       "</div>"
      ],
      "text/plain": [
       "        Brand Name                                  Brand Description Price  \\\n",
       "0          VILLAIN         Others Retro Square Sunglasses (Free Size)  ₹549   \n",
       "1      SKYZA INDIA  Polarized, UV Protection Sports Sunglasses (Fr...  ₹495   \n",
       "2           PIRASO              UV Protection Aviator Sunglasses (54)  ₹200   \n",
       "3         Fastrack      UV Protection Wayfarer Sunglasses (Free Size)  ₹759   \n",
       "4        Elligator                UV Protection Round Sunglasses (54)  ₹248   \n",
       "..             ...                                                ...   ...   \n",
       "95          AISLIN   UV Protection, Gradient Wayfarer Sunglasses (60)  ₹675   \n",
       "96  kingsunglasses   UV Protection Rectangular Sunglasses (Free Size)  ₹192   \n",
       "97            hipe  UV Protection, Gradient, Mirrored, Riding Glas...  ₹189   \n",
       "98  ROZZETTA CRAFT         UV Protection Round Sunglasses (Free Size)  ₹426   \n",
       "99          AISLIN    UV Protection, Gradient Cat-eye Sunglasses (61)  ₹459   \n",
       "\n",
       "   Discount  \n",
       "0   26% off  \n",
       "1   72% off  \n",
       "2   87% off  \n",
       "3   15% off  \n",
       "4   90% off  \n",
       "..      ...  \n",
       "95  68% off  \n",
       "96  82% off  \n",
       "97  85% off  \n",
       "98  84% off  \n",
       "99  73% off  \n",
       "\n",
       "[100 rows x 4 columns]"
      ]
     },
     "execution_count": 96,
     "metadata": {},
     "output_type": "execute_result"
    }
   ],
   "source": [
    "df = pd.DataFrame({'Brand Name':brand_name, 'Brand Description':description, 'Price':prices, 'Discount':discount})\n",
    "df"
   ]
  },
  {
   "cell_type": "markdown",
   "id": "3cfcf1ac",
   "metadata": {},
   "source": [
    "# Question.5"
   ]
  },
  {
   "cell_type": "code",
   "execution_count": 97,
   "id": "0d1bcff3",
   "metadata": {},
   "outputs": [],
   "source": [
    "url = 'https://www.flipkart.com/apple-iphone-11-black-64-gb-includes- earpods-power- adapter/p/itm0f37c2240b217?pid=MOBFKCTSVZAXUHGR&lid=LSTMOBFKC TSVZAXUHGREPBFGI&marketplace.'\n",
    "driver.get(url)"
   ]
  },
  {
   "cell_type": "markdown",
   "id": "a16759f6",
   "metadata": {},
   "source": [
    "Opening all reviews"
   ]
  },
  {
   "cell_type": "code",
   "execution_count": 98,
   "id": "d6be4313",
   "metadata": {},
   "outputs": [],
   "source": [
    "all_review = driver.find_element_by_xpath('//div[@class=\"_3UAT2v _16PBlm\"]')"
   ]
  },
  {
   "cell_type": "code",
   "execution_count": 99,
   "id": "fe9fabcf",
   "metadata": {},
   "outputs": [],
   "source": [
    "all_review.click()"
   ]
  },
  {
   "cell_type": "markdown",
   "id": "6e208f13",
   "metadata": {},
   "source": [
    "# SCRAPING THE DATA"
   ]
  },
  {
   "cell_type": "markdown",
   "id": "18ef98ed",
   "metadata": {},
   "source": [
    "Extracting Page1 data:"
   ]
  },
  {
   "cell_type": "code",
   "execution_count": 100,
   "id": "1f33e956",
   "metadata": {},
   "outputs": [
    {
     "data": {
      "text/plain": [
       "10"
      ]
     },
     "execution_count": 100,
     "metadata": {},
     "output_type": "execute_result"
    }
   ],
   "source": [
    "rating = driver.find_elements_by_xpath('//div[@class=\"_3LWZlK _1BLPMq\"]')\n",
    "\n",
    "rating1 = []\n",
    "\n",
    "for i in rating:\n",
    "    rating1.append(i.text)\n",
    "    \n",
    "len(rating1)"
   ]
  },
  {
   "cell_type": "code",
   "execution_count": 101,
   "id": "a150a66c",
   "metadata": {},
   "outputs": [
    {
     "data": {
      "text/plain": [
       "10"
      ]
     },
     "execution_count": 101,
     "metadata": {},
     "output_type": "execute_result"
    }
   ],
   "source": [
    "review = driver.find_elements_by_xpath('//p[@class=\"_2-N8zT\"]')\n",
    "\n",
    "summary1 = []\n",
    "\n",
    "for i in review:\n",
    "    summary1.append(i.text)\n",
    "    \n",
    "len(summary1)"
   ]
  },
  {
   "cell_type": "code",
   "execution_count": 102,
   "id": "a7ee40dc",
   "metadata": {},
   "outputs": [
    {
     "data": {
      "text/plain": [
       "10"
      ]
     },
     "execution_count": 102,
     "metadata": {},
     "output_type": "execute_result"
    }
   ],
   "source": [
    "fullr = driver.find_elements_by_xpath('//div[@class=\"t-ZTKy\"]')\n",
    "\n",
    "Fullr1 = []\n",
    "\n",
    "for i in fullr:\n",
    "    Fullr1.append(i.text)\n",
    "    \n",
    "len(Fullr1)"
   ]
  },
  {
   "cell_type": "markdown",
   "id": "59e504c9",
   "metadata": {},
   "source": [
    "Moving to page2 data:"
   ]
  },
  {
   "cell_type": "code",
   "execution_count": 103,
   "id": "9fcb8c21",
   "metadata": {},
   "outputs": [],
   "source": [
    "try:\n",
    "    next_pg = driver.find_element_by_xpath('//a[@class=\"_1LKTO3\"][2]')\n",
    "    next_pg.click()\n",
    "except:\n",
    "    next_pg = driver.find_element_by_xpath('//a[@class=\"_1LKTO3\"]')  \n",
    "    next_pg.click()"
   ]
  },
  {
   "cell_type": "code",
   "execution_count": 104,
   "id": "5e08b42a",
   "metadata": {},
   "outputs": [],
   "source": [
    "next_pg.click()"
   ]
  },
  {
   "cell_type": "code",
   "execution_count": 105,
   "id": "41045f7d",
   "metadata": {},
   "outputs": [
    {
     "data": {
      "text/plain": [
       "10"
      ]
     },
     "execution_count": 105,
     "metadata": {},
     "output_type": "execute_result"
    }
   ],
   "source": [
    "rating = driver.find_elements_by_xpath('//div[@class=\"_3LWZlK _1BLPMq\"]')\n",
    "\n",
    "rating2 = []\n",
    "\n",
    "for i in rating:\n",
    "    rating2.append(i.text)\n",
    "    \n",
    "len(rating2)"
   ]
  },
  {
   "cell_type": "code",
   "execution_count": 106,
   "id": "2f267ca7",
   "metadata": {},
   "outputs": [
    {
     "data": {
      "text/plain": [
       "10"
      ]
     },
     "execution_count": 106,
     "metadata": {},
     "output_type": "execute_result"
    }
   ],
   "source": [
    "review = driver.find_elements_by_xpath('//p[@class=\"_2-N8zT\"]')\n",
    "\n",
    "summary2 = []\n",
    "\n",
    "for i in review:\n",
    "    summary2.append(i.text)\n",
    "    \n",
    "len(summary2)"
   ]
  },
  {
   "cell_type": "code",
   "execution_count": 107,
   "id": "60664496",
   "metadata": {},
   "outputs": [
    {
     "data": {
      "text/plain": [
       "10"
      ]
     },
     "execution_count": 107,
     "metadata": {},
     "output_type": "execute_result"
    }
   ],
   "source": [
    "fullr = driver.find_elements_by_xpath('//div[@class=\"t-ZTKy\"]')\n",
    "\n",
    "Fullr2 = []\n",
    "\n",
    "for i in fullr:\n",
    "    Fullr2.append(i.text)\n",
    "    \n",
    "len(Fullr2)"
   ]
  },
  {
   "cell_type": "markdown",
   "id": "a1d815be",
   "metadata": {},
   "source": [
    "Moving to page3 data:"
   ]
  },
  {
   "cell_type": "code",
   "execution_count": 108,
   "id": "2879442d",
   "metadata": {},
   "outputs": [],
   "source": [
    "try:\n",
    "    next_pg = driver.find_element_by_xpath('//a[@class=\"_1LKTO3\"][2]') #for next page using indexing\n",
    "    next_pg.click()\n",
    "except:\n",
    "    next_pg = driver.find_element_by_xpath('//a[@class=\"_1LKTO3\"]')  \n",
    "    next_pg.click()"
   ]
  },
  {
   "cell_type": "code",
   "execution_count": 109,
   "id": "b81f5622",
   "metadata": {},
   "outputs": [],
   "source": [
    "next_pg.click()"
   ]
  },
  {
   "cell_type": "code",
   "execution_count": 110,
   "id": "5b0656e4",
   "metadata": {},
   "outputs": [
    {
     "data": {
      "text/plain": [
       "10"
      ]
     },
     "execution_count": 110,
     "metadata": {},
     "output_type": "execute_result"
    }
   ],
   "source": [
    "rating = driver.find_elements_by_xpath('//div[@class=\"_3LWZlK _1BLPMq\"]')\n",
    "\n",
    "rating3 = []\n",
    "\n",
    "for i in rating:\n",
    "    rating3.append(i.text)\n",
    "    \n",
    "len(rating3)"
   ]
  },
  {
   "cell_type": "code",
   "execution_count": 111,
   "id": "93dd4390",
   "metadata": {},
   "outputs": [
    {
     "data": {
      "text/plain": [
       "10"
      ]
     },
     "execution_count": 111,
     "metadata": {},
     "output_type": "execute_result"
    }
   ],
   "source": [
    "review = driver.find_elements_by_xpath('//p[@class=\"_2-N8zT\"]')\n",
    "\n",
    "summary3 = []\n",
    "\n",
    "for i in review:\n",
    "    summary3.append(i.text)\n",
    "    \n",
    "len(summary3)"
   ]
  },
  {
   "cell_type": "code",
   "execution_count": 112,
   "id": "aa0cfb0c",
   "metadata": {},
   "outputs": [
    {
     "data": {
      "text/plain": [
       "10"
      ]
     },
     "execution_count": 112,
     "metadata": {},
     "output_type": "execute_result"
    }
   ],
   "source": [
    "fullr = driver.find_elements_by_xpath('//div[@class=\"t-ZTKy\"]')\n",
    "\n",
    "Fullr3 = []\n",
    "\n",
    "for i in fullr:\n",
    "    Fullr3.append(i.text)\n",
    "    \n",
    "len(Fullr3)"
   ]
  },
  {
   "cell_type": "markdown",
   "id": "6e88106c",
   "metadata": {},
   "source": [
    "Moving to page4 data:"
   ]
  },
  {
   "cell_type": "code",
   "execution_count": 113,
   "id": "dc124fc0",
   "metadata": {},
   "outputs": [],
   "source": [
    "try:\n",
    "    next_pg = driver.find_element_by_xpath('//a[@class=\"_1LKTO3\"][2]') #for next page using indexing\n",
    "    next_pg.click()\n",
    "except:\n",
    "    next_pg = driver.find_element_by_xpath('//a[@class=\"_1LKTO3\"]')  \n",
    "    next_pg.click()"
   ]
  },
  {
   "cell_type": "code",
   "execution_count": 114,
   "id": "9d61acde",
   "metadata": {},
   "outputs": [],
   "source": [
    "next_pg.click()"
   ]
  },
  {
   "cell_type": "code",
   "execution_count": 150,
   "id": "1889eccb",
   "metadata": {},
   "outputs": [
    {
     "data": {
      "text/plain": [
       "10"
      ]
     },
     "execution_count": 150,
     "metadata": {},
     "output_type": "execute_result"
    }
   ],
   "source": [
    "rating = driver.find_elements_by_xpath('//div[@class=\"_3LWZlK _1BLPMq\"]')\n",
    "\n",
    "rating4 = []\n",
    "\n",
    "for i in rating:\n",
    "    rating4.append(i.text)\n",
    "    \n",
    "len(rating4)"
   ]
  },
  {
   "cell_type": "code",
   "execution_count": 116,
   "id": "2b67a84d",
   "metadata": {},
   "outputs": [
    {
     "data": {
      "text/plain": [
       "10"
      ]
     },
     "execution_count": 116,
     "metadata": {},
     "output_type": "execute_result"
    }
   ],
   "source": [
    "review = driver.find_elements_by_xpath('//p[@class=\"_2-N8zT\"]')\n",
    "\n",
    "summary4 = []\n",
    "\n",
    "for i in review:\n",
    "    summary4.append(i.text)\n",
    "    \n",
    "len(summary4)"
   ]
  },
  {
   "cell_type": "code",
   "execution_count": 117,
   "id": "8bc7cee0",
   "metadata": {},
   "outputs": [
    {
     "data": {
      "text/plain": [
       "10"
      ]
     },
     "execution_count": 117,
     "metadata": {},
     "output_type": "execute_result"
    }
   ],
   "source": [
    "fullr = driver.find_elements_by_xpath('//div[@class=\"t-ZTKy\"]')\n",
    "\n",
    "Fullr4 = []\n",
    "\n",
    "for i in fullr:\n",
    "    Fullr4.append(i.text)\n",
    "    \n",
    "len(Fullr4)"
   ]
  },
  {
   "cell_type": "markdown",
   "id": "4ed1fb0f",
   "metadata": {},
   "source": [
    "Moving to page5 data:"
   ]
  },
  {
   "cell_type": "code",
   "execution_count": 118,
   "id": "9dff45e8",
   "metadata": {},
   "outputs": [],
   "source": [
    "try:\n",
    "    next_pg = driver.find_element_by_xpath('//a[@class=\"_1LKTO3\"][2]') #for next page using indexing\n",
    "    next_pg.click()\n",
    "except:\n",
    "    next_pg = driver.find_element_by_xpath('//a[@class=\"_1LKTO3\"]')  \n",
    "    next_pg.click()"
   ]
  },
  {
   "cell_type": "code",
   "execution_count": 119,
   "id": "80f93b5d",
   "metadata": {},
   "outputs": [],
   "source": [
    "next_pg.click()"
   ]
  },
  {
   "cell_type": "code",
   "execution_count": 120,
   "id": "9e59e834",
   "metadata": {},
   "outputs": [
    {
     "data": {
      "text/plain": [
       "10"
      ]
     },
     "execution_count": 120,
     "metadata": {},
     "output_type": "execute_result"
    }
   ],
   "source": [
    "rating = driver.find_elements_by_xpath('//div[@class=\"_3LWZlK _1BLPMq\"]')\n",
    "\n",
    "rating5 = []\n",
    "\n",
    "for i in rating:\n",
    "    rating5.append(i.text)\n",
    "    \n",
    "len(rating5)"
   ]
  },
  {
   "cell_type": "code",
   "execution_count": 121,
   "id": "7323874b",
   "metadata": {},
   "outputs": [
    {
     "data": {
      "text/plain": [
       "10"
      ]
     },
     "execution_count": 121,
     "metadata": {},
     "output_type": "execute_result"
    }
   ],
   "source": [
    "review = driver.find_elements_by_xpath('//p[@class=\"_2-N8zT\"]')\n",
    "\n",
    "summary5 = []\n",
    "\n",
    "for i in review:\n",
    "    summary5.append(i.text)\n",
    "    \n",
    "len(summary5)"
   ]
  },
  {
   "cell_type": "code",
   "execution_count": 122,
   "id": "b27fb0fb",
   "metadata": {},
   "outputs": [
    {
     "data": {
      "text/plain": [
       "10"
      ]
     },
     "execution_count": 122,
     "metadata": {},
     "output_type": "execute_result"
    }
   ],
   "source": [
    "fullr = driver.find_elements_by_xpath('//div[@class=\"t-ZTKy\"]')\n",
    "\n",
    "Fullr5 = []\n",
    "\n",
    "for i in fullr:\n",
    "    Fullr5.append(i.text)\n",
    "    \n",
    "len(Fullr5)"
   ]
  },
  {
   "cell_type": "markdown",
   "id": "475ce4b7",
   "metadata": {},
   "source": [
    "Moving to page6 data:"
   ]
  },
  {
   "cell_type": "code",
   "execution_count": 123,
   "id": "b51c0c12",
   "metadata": {},
   "outputs": [],
   "source": [
    "try:\n",
    "    next_pg = driver.find_element_by_xpath('//a[@class=\"_1LKTO3\"][2]') #for next page using indexing\n",
    "    next_pg.click()\n",
    "except:\n",
    "    next_pg = driver.find_element_by_xpath('//a[@class=\"_1LKTO3\"]')  \n",
    "    next_pg.click()"
   ]
  },
  {
   "cell_type": "code",
   "execution_count": 124,
   "id": "7396d602",
   "metadata": {},
   "outputs": [],
   "source": [
    "next_pg.click()"
   ]
  },
  {
   "cell_type": "code",
   "execution_count": 125,
   "id": "c34248b5",
   "metadata": {},
   "outputs": [
    {
     "data": {
      "text/plain": [
       "10"
      ]
     },
     "execution_count": 125,
     "metadata": {},
     "output_type": "execute_result"
    }
   ],
   "source": [
    "rating = driver.find_elements_by_xpath('//div[@class=\"_3LWZlK _1BLPMq\"]')\n",
    "\n",
    "rating6 = []\n",
    "\n",
    "for i in rating:\n",
    "    rating6.append(i.text)\n",
    "    \n",
    "len(rating6)"
   ]
  },
  {
   "cell_type": "code",
   "execution_count": 126,
   "id": "2a3d5e96",
   "metadata": {},
   "outputs": [
    {
     "data": {
      "text/plain": [
       "10"
      ]
     },
     "execution_count": 126,
     "metadata": {},
     "output_type": "execute_result"
    }
   ],
   "source": [
    "review = driver.find_elements_by_xpath('//p[@class=\"_2-N8zT\"]')\n",
    "\n",
    "summary6 = []\n",
    "\n",
    "for i in review:\n",
    "    summary6.append(i.text)\n",
    "    \n",
    "len(summary6)"
   ]
  },
  {
   "cell_type": "code",
   "execution_count": 127,
   "id": "2feb96f4",
   "metadata": {},
   "outputs": [
    {
     "data": {
      "text/plain": [
       "10"
      ]
     },
     "execution_count": 127,
     "metadata": {},
     "output_type": "execute_result"
    }
   ],
   "source": [
    "fullr = driver.find_elements_by_xpath('//div[@class=\"t-ZTKy\"]')\n",
    "\n",
    "Fullr6 = []\n",
    "\n",
    "for i in fullr:\n",
    "    Fullr6.append(i.text)\n",
    "    \n",
    "len(Fullr6)"
   ]
  },
  {
   "cell_type": "markdown",
   "id": "0bb1acf5",
   "metadata": {},
   "source": [
    "Moving to page7 data:"
   ]
  },
  {
   "cell_type": "code",
   "execution_count": 128,
   "id": "bcc42fab",
   "metadata": {},
   "outputs": [],
   "source": [
    "try:\n",
    "    next_pg = driver.find_element_by_xpath('//a[@class=\"_1LKTO3\"][2]') #for next page using indexing\n",
    "    next_pg.click()\n",
    "except:\n",
    "    next_pg = driver.find_element_by_xpath('//a[@class=\"_1LKTO3\"]')  \n",
    "    next_pg.click()"
   ]
  },
  {
   "cell_type": "code",
   "execution_count": 129,
   "id": "ad05774d",
   "metadata": {},
   "outputs": [],
   "source": [
    "next_pg.click()"
   ]
  },
  {
   "cell_type": "code",
   "execution_count": 149,
   "id": "9ebdffef",
   "metadata": {},
   "outputs": [
    {
     "data": {
      "text/plain": [
       "10"
      ]
     },
     "execution_count": 149,
     "metadata": {},
     "output_type": "execute_result"
    }
   ],
   "source": [
    "rating = driver.find_elements_by_xpath('//div[@class=\"_3LWZlK _1BLPMq\"]')\n",
    "\n",
    "rating7 = []\n",
    "\n",
    "for i in rating:\n",
    "    rating7.append(i.text)\n",
    "    \n",
    "len(rating7)"
   ]
  },
  {
   "cell_type": "code",
   "execution_count": 131,
   "id": "8cb71773",
   "metadata": {},
   "outputs": [
    {
     "data": {
      "text/plain": [
       "10"
      ]
     },
     "execution_count": 131,
     "metadata": {},
     "output_type": "execute_result"
    }
   ],
   "source": [
    "review = driver.find_elements_by_xpath('//p[@class=\"_2-N8zT\"]')\n",
    "\n",
    "summary7 = []\n",
    "\n",
    "for i in review:\n",
    "    summary7.append(i.text)\n",
    "    \n",
    "len(summary7)"
   ]
  },
  {
   "cell_type": "code",
   "execution_count": 132,
   "id": "bfbde408",
   "metadata": {},
   "outputs": [
    {
     "data": {
      "text/plain": [
       "10"
      ]
     },
     "execution_count": 132,
     "metadata": {},
     "output_type": "execute_result"
    }
   ],
   "source": [
    "fullr = driver.find_elements_by_xpath('//div[@class=\"t-ZTKy\"]')\n",
    "\n",
    "Fullr7 = []\n",
    "\n",
    "for i in fullr:\n",
    "    Fullr7.append(i.text)\n",
    "    \n",
    "len(Fullr7)"
   ]
  },
  {
   "cell_type": "markdown",
   "id": "8fd25191",
   "metadata": {},
   "source": [
    "Moving to page8 data:"
   ]
  },
  {
   "cell_type": "code",
   "execution_count": 133,
   "id": "7c3cb074",
   "metadata": {},
   "outputs": [],
   "source": [
    "try:\n",
    "    next_pg = driver.find_element_by_xpath('//a[@class=\"_1LKTO3\"][2]') #for next page using indexing\n",
    "    next_pg.click()\n",
    "except:\n",
    "    next_pg = driver.find_element_by_xpath('//a[@class=\"_1LKTO3\"]')  \n",
    "    next_pg.click()"
   ]
  },
  {
   "cell_type": "code",
   "execution_count": 134,
   "id": "119d42b3",
   "metadata": {},
   "outputs": [],
   "source": [
    "next_pg.click()"
   ]
  },
  {
   "cell_type": "code",
   "execution_count": 148,
   "id": "aac0648d",
   "metadata": {},
   "outputs": [
    {
     "data": {
      "text/plain": [
       "10"
      ]
     },
     "execution_count": 148,
     "metadata": {},
     "output_type": "execute_result"
    }
   ],
   "source": [
    "rating = driver.find_elements_by_xpath('//div[@class=\"_3LWZlK _1BLPMq\"]')\n",
    "\n",
    "rating8 = []\n",
    "\n",
    "for i in rating:\n",
    "    rating8.append(i.text)\n",
    "    \n",
    "len(rating8)"
   ]
  },
  {
   "cell_type": "code",
   "execution_count": 136,
   "id": "7dd29dcc",
   "metadata": {},
   "outputs": [
    {
     "data": {
      "text/plain": [
       "10"
      ]
     },
     "execution_count": 136,
     "metadata": {},
     "output_type": "execute_result"
    }
   ],
   "source": [
    "review = driver.find_elements_by_xpath('//p[@class=\"_2-N8zT\"]')\n",
    "\n",
    "summary8 = []\n",
    "\n",
    "for i in review:\n",
    "    summary8.append(i.text)\n",
    "    \n",
    "len(summary8)"
   ]
  },
  {
   "cell_type": "code",
   "execution_count": 137,
   "id": "1d7e1c1b",
   "metadata": {},
   "outputs": [
    {
     "data": {
      "text/plain": [
       "10"
      ]
     },
     "execution_count": 137,
     "metadata": {},
     "output_type": "execute_result"
    }
   ],
   "source": [
    "fullr = driver.find_elements_by_xpath('//div[@class=\"t-ZTKy\"]')\n",
    "\n",
    "Fullr8 = []\n",
    "\n",
    "for i in fullr:\n",
    "    Fullr8.append(i.text)\n",
    "    \n",
    "len(Fullr8)"
   ]
  },
  {
   "cell_type": "markdown",
   "id": "d04d716e",
   "metadata": {},
   "source": [
    "Moving to page9 data:"
   ]
  },
  {
   "cell_type": "code",
   "execution_count": 138,
   "id": "c5744cea",
   "metadata": {},
   "outputs": [],
   "source": [
    "try:\n",
    "    next_pg = driver.find_element_by_xpath('//a[@class=\"_1LKTO3\"][2]') #for next page using indexing\n",
    "    next_pg.click()\n",
    "except:\n",
    "    next_pg = driver.find_element_by_xpath('//a[@class=\"_1LKTO3\"]')  \n",
    "    next_pg.click()"
   ]
  },
  {
   "cell_type": "code",
   "execution_count": 139,
   "id": "ce8bb947",
   "metadata": {},
   "outputs": [],
   "source": [
    "next_pg.click()"
   ]
  },
  {
   "cell_type": "code",
   "execution_count": 140,
   "id": "4e34852f",
   "metadata": {},
   "outputs": [
    {
     "data": {
      "text/plain": [
       "10"
      ]
     },
     "execution_count": 140,
     "metadata": {},
     "output_type": "execute_result"
    }
   ],
   "source": [
    "rating = driver.find_elements_by_xpath('//div[@class=\"_3LWZlK _1BLPMq\"]')\n",
    "\n",
    "rating9 = []\n",
    "\n",
    "for i in rating:\n",
    "    rating9.append(i.text)\n",
    "\n",
    "len(rating9)"
   ]
  },
  {
   "cell_type": "code",
   "execution_count": 141,
   "id": "62b473e7",
   "metadata": {},
   "outputs": [
    {
     "data": {
      "text/plain": [
       "10"
      ]
     },
     "execution_count": 141,
     "metadata": {},
     "output_type": "execute_result"
    }
   ],
   "source": [
    "review = driver.find_elements_by_xpath('//p[@class=\"_2-N8zT\"]')\n",
    "\n",
    "summary9 = []\n",
    "\n",
    "for i in review:\n",
    "    summary9.append(i.text)\n",
    "    \n",
    "len(summary9)"
   ]
  },
  {
   "cell_type": "code",
   "execution_count": 142,
   "id": "108f73d8",
   "metadata": {},
   "outputs": [
    {
     "data": {
      "text/plain": [
       "10"
      ]
     },
     "execution_count": 142,
     "metadata": {},
     "output_type": "execute_result"
    }
   ],
   "source": [
    "fullr = driver.find_elements_by_xpath('//div[@class=\"t-ZTKy\"]')\n",
    "\n",
    "Fullr9 = []\n",
    "\n",
    "for i in fullr:\n",
    "    Fullr9.append(i.text)\n",
    "    \n",
    "len(Fullr9)"
   ]
  },
  {
   "cell_type": "markdown",
   "id": "73ff28d2",
   "metadata": {},
   "source": [
    "Moving to page10 data:"
   ]
  },
  {
   "cell_type": "code",
   "execution_count": 143,
   "id": "035d5c25",
   "metadata": {},
   "outputs": [],
   "source": [
    "try:\n",
    "    next_pg = driver.find_element_by_xpath('//a[@class=\"_1LKTO3\"][2]') #for next page using indexing\n",
    "    next_pg.click()\n",
    "except:\n",
    "    next_pg = driver.find_element_by_xpath('//a[@class=\"_1LKTO3\"]')  \n",
    "    next_pg.click()"
   ]
  },
  {
   "cell_type": "code",
   "execution_count": 144,
   "id": "ee092388",
   "metadata": {},
   "outputs": [],
   "source": [
    "next_pg.click()"
   ]
  },
  {
   "cell_type": "code",
   "execution_count": 145,
   "id": "aaf29906",
   "metadata": {},
   "outputs": [
    {
     "data": {
      "text/plain": [
       "10"
      ]
     },
     "execution_count": 145,
     "metadata": {},
     "output_type": "execute_result"
    }
   ],
   "source": [
    "rating = driver.find_elements_by_xpath('//div[@class=\"_3LWZlK _1BLPMq\"]')\n",
    "\n",
    "rating10 = []\n",
    "\n",
    "for i in rating:\n",
    "    rating10.append(i.text)\n",
    "    \n",
    "len(rating10)"
   ]
  },
  {
   "cell_type": "code",
   "execution_count": 146,
   "id": "a4453a78",
   "metadata": {},
   "outputs": [
    {
     "data": {
      "text/plain": [
       "10"
      ]
     },
     "execution_count": 146,
     "metadata": {},
     "output_type": "execute_result"
    }
   ],
   "source": [
    "review = driver.find_elements_by_xpath('//p[@class=\"_2-N8zT\"]')\n",
    "\n",
    "summary10 = []\n",
    "\n",
    "for i in review:\n",
    "    summary10.append(i.text)\n",
    "    \n",
    "len(summary10)"
   ]
  },
  {
   "cell_type": "code",
   "execution_count": 147,
   "id": "6807b0cf",
   "metadata": {},
   "outputs": [
    {
     "data": {
      "text/plain": [
       "10"
      ]
     },
     "execution_count": 147,
     "metadata": {},
     "output_type": "execute_result"
    }
   ],
   "source": [
    "fullr = driver.find_elements_by_xpath('//div[@class=\"t-ZTKy\"]')\n",
    "\n",
    "Fullr10 = []\n",
    "\n",
    "for i in fullr:\n",
    "    Fullr10.append(i.text)\n",
    "    \n",
    "len(Fullr10)"
   ]
  },
  {
   "cell_type": "markdown",
   "id": "74adc822",
   "metadata": {},
   "source": [
    "Adding All Lists together:"
   ]
  },
  {
   "cell_type": "code",
   "execution_count": 151,
   "id": "b64e7812",
   "metadata": {},
   "outputs": [],
   "source": [
    "Rating = rating1 + rating2 + rating3+ rating4 + rating5 + rating6 + rating7 + rating8 + rating9 + rating10"
   ]
  },
  {
   "cell_type": "code",
   "execution_count": 152,
   "id": "d2640f0b",
   "metadata": {},
   "outputs": [
    {
     "data": {
      "text/plain": [
       "100"
      ]
     },
     "execution_count": 152,
     "metadata": {},
     "output_type": "execute_result"
    }
   ],
   "source": [
    "len(Rating)"
   ]
  },
  {
   "cell_type": "code",
   "execution_count": 153,
   "id": "08b50fac",
   "metadata": {},
   "outputs": [],
   "source": [
    "Review = summary1 + summary2 + summary3 + summary4 + summary5 + summary6 + summary7 + summary8 + summary9 + summary10"
   ]
  },
  {
   "cell_type": "code",
   "execution_count": 154,
   "id": "fd8e501f",
   "metadata": {},
   "outputs": [
    {
     "data": {
      "text/plain": [
       "100"
      ]
     },
     "execution_count": 154,
     "metadata": {},
     "output_type": "execute_result"
    }
   ],
   "source": [
    "len(Review)"
   ]
  },
  {
   "cell_type": "code",
   "execution_count": 155,
   "id": "c91e2bd2",
   "metadata": {},
   "outputs": [],
   "source": [
    "Full_Review = Fullr1 + Fullr2 + Fullr3 + Fullr4 + Fullr5 + Fullr6 + Fullr7 + Fullr8 + Fullr9 + Fullr10"
   ]
  },
  {
   "cell_type": "code",
   "execution_count": 156,
   "id": "8feb9f7d",
   "metadata": {},
   "outputs": [
    {
     "data": {
      "text/plain": [
       "100"
      ]
     },
     "execution_count": 156,
     "metadata": {},
     "output_type": "execute_result"
    }
   ],
   "source": [
    "len(Full_Review)"
   ]
  },
  {
   "cell_type": "markdown",
   "id": "de3f1f90",
   "metadata": {},
   "source": [
    "Making DataFrame"
   ]
  },
  {
   "cell_type": "code",
   "execution_count": 157,
   "id": "88aa559f",
   "metadata": {},
   "outputs": [],
   "source": [
    "import pandas as pd"
   ]
  },
  {
   "cell_type": "markdown",
   "id": "9171d69d",
   "metadata": {},
   "source": [
    "Making DataFrame"
   ]
  },
  {
   "cell_type": "code",
   "execution_count": 158,
   "id": "9d92f8fa",
   "metadata": {},
   "outputs": [],
   "source": [
    "iphone = pd.DataFrame({'Ratings':Rating, 'Review summary':Review, 'Review Description':Full_Review})"
   ]
  },
  {
   "cell_type": "code",
   "execution_count": 159,
   "id": "d83f7fc2",
   "metadata": {},
   "outputs": [
    {
     "data": {
      "text/html": [
       "<div>\n",
       "<style scoped>\n",
       "    .dataframe tbody tr th:only-of-type {\n",
       "        vertical-align: middle;\n",
       "    }\n",
       "\n",
       "    .dataframe tbody tr th {\n",
       "        vertical-align: top;\n",
       "    }\n",
       "\n",
       "    .dataframe thead th {\n",
       "        text-align: right;\n",
       "    }\n",
       "</style>\n",
       "<table border=\"1\" class=\"dataframe\">\n",
       "  <thead>\n",
       "    <tr style=\"text-align: right;\">\n",
       "      <th></th>\n",
       "      <th>Ratings</th>\n",
       "      <th>Review summary</th>\n",
       "      <th>Review Description</th>\n",
       "    </tr>\n",
       "  </thead>\n",
       "  <tbody>\n",
       "    <tr>\n",
       "      <th>0</th>\n",
       "      <td>5</td>\n",
       "      <td>Brilliant</td>\n",
       "      <td>The Best Phone for the Money\\n\\nThe iPhone 11 ...</td>\n",
       "    </tr>\n",
       "    <tr>\n",
       "      <th>1</th>\n",
       "      <td>5</td>\n",
       "      <td>Simply awesome</td>\n",
       "      <td>Really satisfied with the Product I received.....</td>\n",
       "    </tr>\n",
       "    <tr>\n",
       "      <th>2</th>\n",
       "      <td>5</td>\n",
       "      <td>Perfect product!</td>\n",
       "      <td>Amazing phone with great cameras and better ba...</td>\n",
       "    </tr>\n",
       "    <tr>\n",
       "      <th>3</th>\n",
       "      <td>5</td>\n",
       "      <td>Best in the market!</td>\n",
       "      <td>Great iPhone very snappy experience as apple k...</td>\n",
       "    </tr>\n",
       "    <tr>\n",
       "      <th>4</th>\n",
       "      <td>5</td>\n",
       "      <td>Worth every penny</td>\n",
       "      <td>Previously I was using one plus 3t it was a gr...</td>\n",
       "    </tr>\n",
       "    <tr>\n",
       "      <th>...</th>\n",
       "      <td>...</td>\n",
       "      <td>...</td>\n",
       "      <td>...</td>\n",
       "    </tr>\n",
       "    <tr>\n",
       "      <th>95</th>\n",
       "      <td>5</td>\n",
       "      <td>Just wow!</td>\n",
       "      <td>The ultimate performance\\nCamera is superb\\nTh...</td>\n",
       "    </tr>\n",
       "    <tr>\n",
       "      <th>96</th>\n",
       "      <td>5</td>\n",
       "      <td>Terrific purchase</td>\n",
       "      <td>I use a Note10+ and have been using both iOS a...</td>\n",
       "    </tr>\n",
       "    <tr>\n",
       "      <th>97</th>\n",
       "      <td>5</td>\n",
       "      <td>Awesome</td>\n",
       "      <td>The phone is completely good\\nAs far as camera...</td>\n",
       "    </tr>\n",
       "    <tr>\n",
       "      <th>98</th>\n",
       "      <td>3</td>\n",
       "      <td>Decent product</td>\n",
       "      <td>Everything u ll like it when u use this iPhone...</td>\n",
       "    </tr>\n",
       "    <tr>\n",
       "      <th>99</th>\n",
       "      <td>5</td>\n",
       "      <td>Wonderful</td>\n",
       "      <td>Nice value for money good and best price I pho...</td>\n",
       "    </tr>\n",
       "  </tbody>\n",
       "</table>\n",
       "<p>100 rows × 3 columns</p>\n",
       "</div>"
      ],
      "text/plain": [
       "   Ratings       Review summary  \\\n",
       "0        5            Brilliant   \n",
       "1        5       Simply awesome   \n",
       "2        5     Perfect product!   \n",
       "3        5  Best in the market!   \n",
       "4        5    Worth every penny   \n",
       "..     ...                  ...   \n",
       "95       5            Just wow!   \n",
       "96       5    Terrific purchase   \n",
       "97       5              Awesome   \n",
       "98       3       Decent product   \n",
       "99       5            Wonderful   \n",
       "\n",
       "                                   Review Description  \n",
       "0   The Best Phone for the Money\\n\\nThe iPhone 11 ...  \n",
       "1   Really satisfied with the Product I received.....  \n",
       "2   Amazing phone with great cameras and better ba...  \n",
       "3   Great iPhone very snappy experience as apple k...  \n",
       "4   Previously I was using one plus 3t it was a gr...  \n",
       "..                                                ...  \n",
       "95  The ultimate performance\\nCamera is superb\\nTh...  \n",
       "96  I use a Note10+ and have been using both iOS a...  \n",
       "97  The phone is completely good\\nAs far as camera...  \n",
       "98  Everything u ll like it when u use this iPhone...  \n",
       "99  Nice value for money good and best price I pho...  \n",
       "\n",
       "[100 rows x 3 columns]"
      ]
     },
     "execution_count": 159,
     "metadata": {},
     "output_type": "execute_result"
    }
   ],
   "source": [
    "iphone"
   ]
  },
  {
   "cell_type": "markdown",
   "id": "7447a2db",
   "metadata": {},
   "source": [
    "# Question.6"
   ]
  },
  {
   "cell_type": "code",
   "execution_count": 160,
   "id": "4eae209c",
   "metadata": {},
   "outputs": [],
   "source": [
    "url = 'https://www.flipkart.com/'\n",
    "driver.get(url)"
   ]
  },
  {
   "cell_type": "code",
   "execution_count": 161,
   "id": "9af8dfdb",
   "metadata": {},
   "outputs": [],
   "source": [
    "search_product = driver.find_element_by_xpath('//input[@class=\"_3704LK\"]')"
   ]
  },
  {
   "cell_type": "code",
   "execution_count": 162,
   "id": "730b6ed4",
   "metadata": {},
   "outputs": [],
   "source": [
    "search_product.send_keys('Sneakers')"
   ]
  },
  {
   "cell_type": "code",
   "execution_count": 163,
   "id": "16caaaac",
   "metadata": {},
   "outputs": [],
   "source": [
    "search_click = driver.find_element_by_xpath('//button[@class=\"L0Z3Pu\"]')"
   ]
  },
  {
   "cell_type": "code",
   "execution_count": 164,
   "id": "f46f90df",
   "metadata": {},
   "outputs": [],
   "source": [
    "search_click.click()\n",
    "\n",
    "time.sleep(3)"
   ]
  },
  {
   "cell_type": "markdown",
   "id": "b41f14ba",
   "metadata": {},
   "source": [
    "# SCRAPING THE DATA"
   ]
  },
  {
   "cell_type": "markdown",
   "id": "eb6229b2",
   "metadata": {},
   "source": [
    "Extracting Page1 data:"
   ]
  },
  {
   "cell_type": "code",
   "execution_count": 166,
   "id": "85a28a9d",
   "metadata": {},
   "outputs": [
    {
     "data": {
      "text/plain": [
       "40"
      ]
     },
     "execution_count": 166,
     "metadata": {},
     "output_type": "execute_result"
    }
   ],
   "source": [
    "brand = driver.find_elements_by_xpath('//div[@class=\"_2WkVRV\"]')[:40]\n",
    "\n",
    "brand_name1 = []\n",
    "\n",
    "for i in brand:\n",
    "    brand_name1.append(i.text)\n",
    "    \n",
    "len(brand_name1)"
   ]
  },
  {
   "cell_type": "code",
   "execution_count": 167,
   "id": "3caffccb",
   "metadata": {},
   "outputs": [
    {
     "data": {
      "text/plain": [
       "34"
      ]
     },
     "execution_count": 167,
     "metadata": {},
     "output_type": "execute_result"
    }
   ],
   "source": [
    "pd = driver.find_elements_by_xpath('//a[@class=\"IRpwTa\"]')\n",
    "\n",
    "description1 = []\n",
    "\n",
    "for i in pd:\n",
    "    description1.append(i.text)\n",
    "   \n",
    "len(description1)"
   ]
  },
  {
   "cell_type": "code",
   "execution_count": 168,
   "id": "40f7c37a",
   "metadata": {},
   "outputs": [
    {
     "data": {
      "text/plain": [
       "40"
      ]
     },
     "execution_count": 168,
     "metadata": {},
     "output_type": "execute_result"
    }
   ],
   "source": [
    "price = driver.find_elements_by_xpath('//div[@class=\"_30jeq3\"]')[:40]\n",
    "\n",
    "price1 = []\n",
    "\n",
    "for i in price:\n",
    "    price1.append(i.text)\n",
    "    \n",
    "len(price1)"
   ]
  },
  {
   "cell_type": "code",
   "execution_count": 169,
   "id": "5c9514ba",
   "metadata": {},
   "outputs": [
    {
     "data": {
      "text/plain": [
       "40"
      ]
     },
     "execution_count": 169,
     "metadata": {},
     "output_type": "execute_result"
    }
   ],
   "source": [
    "dis = driver.find_elements_by_xpath('//div[@class=\"_3Ay6Sb\"]')[:40]\n",
    "\n",
    "discount1 = []\n",
    "\n",
    "for i in dis:\n",
    "    discount1.append(i.text)\n",
    "    \n",
    "len(discount1)"
   ]
  },
  {
   "cell_type": "markdown",
   "id": "f8ac29e7",
   "metadata": {},
   "source": [
    "Moving to Page2:"
   ]
  },
  {
   "cell_type": "code",
   "execution_count": 171,
   "id": "732a7135",
   "metadata": {},
   "outputs": [],
   "source": [
    "try:\n",
    "    next_pg = driver.find_element_by_xpath('//a[@class=\"_1LKTO3\"][2]')\n",
    "    next_pg.click()\n",
    "except:\n",
    "    next_pg = driver.find_element_by_xpath('//a[@class=\"_1LKTO3\"]')  \n",
    "    next_pg.click()"
   ]
  },
  {
   "cell_type": "code",
   "execution_count": 172,
   "id": "274d26bc",
   "metadata": {},
   "outputs": [],
   "source": [
    "next_pg.click()"
   ]
  },
  {
   "cell_type": "code",
   "execution_count": 173,
   "id": "8037278b",
   "metadata": {},
   "outputs": [
    {
     "data": {
      "text/plain": [
       "40"
      ]
     },
     "execution_count": 173,
     "metadata": {},
     "output_type": "execute_result"
    }
   ],
   "source": [
    "brand = driver.find_elements_by_xpath('//div[@class=\"_2WkVRV\"]')[:40]\n",
    "\n",
    "brand_name2 = []\n",
    "\n",
    "for i in brand:\n",
    "    brand_name2.append(i.text)\n",
    "    \n",
    "len(brand_name2)"
   ]
  },
  {
   "cell_type": "code",
   "execution_count": 174,
   "id": "4ad9812d",
   "metadata": {},
   "outputs": [
    {
     "data": {
      "text/plain": [
       "30"
      ]
     },
     "execution_count": 174,
     "metadata": {},
     "output_type": "execute_result"
    }
   ],
   "source": [
    "pd = driver.find_elements_by_xpath('//a[@class=\"IRpwTa\"]')\n",
    "\n",
    "description2 = []\n",
    "\n",
    "for i in pd:\n",
    "    description2.append(i.text)\n",
    "    \n",
    "len(description2)"
   ]
  },
  {
   "cell_type": "code",
   "execution_count": 175,
   "id": "773ebc2b",
   "metadata": {},
   "outputs": [
    {
     "data": {
      "text/plain": [
       "40"
      ]
     },
     "execution_count": 175,
     "metadata": {},
     "output_type": "execute_result"
    }
   ],
   "source": [
    "price = driver.find_elements_by_xpath('//div[@class=\"_30jeq3\"]')[:40]\n",
    "\n",
    "price2 = []\n",
    "\n",
    "for i in price:\n",
    "    price2.append(i.text)\n",
    "    \n",
    "len(price2)"
   ]
  },
  {
   "cell_type": "code",
   "execution_count": 176,
   "id": "9f45bd61",
   "metadata": {},
   "outputs": [
    {
     "data": {
      "text/plain": [
       "39"
      ]
     },
     "execution_count": 176,
     "metadata": {},
     "output_type": "execute_result"
    }
   ],
   "source": [
    "dis = driver.find_elements_by_xpath('//div[@class=\"_3Ay6Sb\"]')[:40]\n",
    "\n",
    "discount2 = []\n",
    "for i in dis:\n",
    "    discount2.append(i.text)\n",
    "    \n",
    "len(discount2)"
   ]
  },
  {
   "cell_type": "markdown",
   "id": "a061b609",
   "metadata": {},
   "source": [
    "Moving to Page3:"
   ]
  },
  {
   "cell_type": "code",
   "execution_count": 177,
   "id": "0b11a6ef",
   "metadata": {},
   "outputs": [],
   "source": [
    "try:\n",
    "    next_pg = driver.find_element_by_xpath('//a[@class=\"_1LKTO3\"][2]') #for next page using indexing\n",
    "    next_pg.click()\n",
    "except:\n",
    "    next_pg = driver.find_element_by_xpath('//a[@class=\"_1LKTO3\"]')  \n",
    "    next_pg.click()"
   ]
  },
  {
   "cell_type": "code",
   "execution_count": 178,
   "id": "39da76bc",
   "metadata": {},
   "outputs": [],
   "source": [
    "next_pg.click()"
   ]
  },
  {
   "cell_type": "code",
   "execution_count": 179,
   "id": "ab3cab3a",
   "metadata": {},
   "outputs": [
    {
     "data": {
      "text/plain": [
       "20"
      ]
     },
     "execution_count": 179,
     "metadata": {},
     "output_type": "execute_result"
    }
   ],
   "source": [
    "brand = driver.find_elements_by_xpath('//div[@class=\"_2WkVRV\"]')[:20]\n",
    "\n",
    "brand_name3 = []\n",
    "\n",
    "for i in brand:\n",
    "    brand_name3.append(i.text)\n",
    "    \n",
    "len(brand_name3)"
   ]
  },
  {
   "cell_type": "code",
   "execution_count": 180,
   "id": "d1690f66",
   "metadata": {},
   "outputs": [
    {
     "data": {
      "text/plain": [
       "20"
      ]
     },
     "execution_count": 180,
     "metadata": {},
     "output_type": "execute_result"
    }
   ],
   "source": [
    "pd = driver.find_elements_by_xpath('//a[@class=\"IRpwTa\"]')[:20]\n",
    "\n",
    "description3 = []\n",
    "\n",
    "for i in pd:\n",
    "    description3.append(i.text)\n",
    "    \n",
    "len(description3)"
   ]
  },
  {
   "cell_type": "code",
   "execution_count": 181,
   "id": "c0225807",
   "metadata": {},
   "outputs": [
    {
     "data": {
      "text/plain": [
       "20"
      ]
     },
     "execution_count": 181,
     "metadata": {},
     "output_type": "execute_result"
    }
   ],
   "source": [
    "price = driver.find_elements_by_xpath('//div[@class=\"_30jeq3\"]')[:20]\n",
    "\n",
    "price3 = []\n",
    "\n",
    "for i in price:\n",
    "    price3.append(i.text)\n",
    "    \n",
    "len(price3)"
   ]
  },
  {
   "cell_type": "code",
   "execution_count": 182,
   "id": "6e8b36c0",
   "metadata": {},
   "outputs": [
    {
     "data": {
      "text/plain": [
       "21"
      ]
     },
     "execution_count": 182,
     "metadata": {},
     "output_type": "execute_result"
    }
   ],
   "source": [
    "dis = driver.find_elements_by_xpath('//div[@class=\"_3Ay6Sb\"]')[:21]\n",
    "\n",
    "discount3 = []\n",
    "\n",
    "for i in dis:\n",
    "    discount3.append(i.text)\n",
    "    \n",
    "len(discount3)"
   ]
  },
  {
   "cell_type": "code",
   "execution_count": 183,
   "id": "2657428b",
   "metadata": {},
   "outputs": [
    {
     "data": {
      "text/plain": [
       "100"
      ]
     },
     "execution_count": 183,
     "metadata": {},
     "output_type": "execute_result"
    }
   ],
   "source": [
    "brand_name = brand_name1 + brand_name2 + brand_name3\n",
    "len(brand_name)"
   ]
  },
  {
   "cell_type": "code",
   "execution_count": 184,
   "id": "4d43ba09",
   "metadata": {},
   "outputs": [
    {
     "data": {
      "text/plain": [
       "84"
      ]
     },
     "execution_count": 184,
     "metadata": {},
     "output_type": "execute_result"
    }
   ],
   "source": [
    "description = description1 + description2 + description3\n",
    "len(description)"
   ]
  },
  {
   "cell_type": "code",
   "execution_count": 185,
   "id": "3571cc8f",
   "metadata": {},
   "outputs": [
    {
     "data": {
      "text/plain": [
       "100"
      ]
     },
     "execution_count": 185,
     "metadata": {},
     "output_type": "execute_result"
    }
   ],
   "source": [
    "prices = price1 + price2 + price3\n",
    "len(prices)"
   ]
  },
  {
   "cell_type": "code",
   "execution_count": 186,
   "id": "aba9d250",
   "metadata": {},
   "outputs": [
    {
     "data": {
      "text/plain": [
       "100"
      ]
     },
     "execution_count": 186,
     "metadata": {},
     "output_type": "execute_result"
    }
   ],
   "source": [
    "discount = discount1 + discount2 + discount3\n",
    "len(discount)"
   ]
  },
  {
   "cell_type": "code",
   "execution_count": 187,
   "id": "e3f627e6",
   "metadata": {},
   "outputs": [],
   "source": [
    "import pandas as pd"
   ]
  },
  {
   "cell_type": "markdown",
   "id": "3880d36f",
   "metadata": {},
   "source": [
    "Making DataFrame"
   ]
  },
  {
   "cell_type": "code",
   "execution_count": 188,
   "id": "05d52268",
   "metadata": {},
   "outputs": [
    {
     "data": {
      "text/html": [
       "<div>\n",
       "<style scoped>\n",
       "    .dataframe tbody tr th:only-of-type {\n",
       "        vertical-align: middle;\n",
       "    }\n",
       "\n",
       "    .dataframe tbody tr th {\n",
       "        vertical-align: top;\n",
       "    }\n",
       "\n",
       "    .dataframe thead th {\n",
       "        text-align: right;\n",
       "    }\n",
       "</style>\n",
       "<table border=\"1\" class=\"dataframe\">\n",
       "  <thead>\n",
       "    <tr style=\"text-align: right;\">\n",
       "      <th></th>\n",
       "      <th>Brand Name</th>\n",
       "      <th>Price</th>\n",
       "      <th>Discount</th>\n",
       "    </tr>\n",
       "  </thead>\n",
       "  <tbody>\n",
       "    <tr>\n",
       "      <th>0</th>\n",
       "      <td>aadi</td>\n",
       "      <td>₹499</td>\n",
       "      <td>50% off</td>\n",
       "    </tr>\n",
       "    <tr>\n",
       "      <th>1</th>\n",
       "      <td>RED TAPE</td>\n",
       "      <td>₹1,648</td>\n",
       "      <td>70% off</td>\n",
       "    </tr>\n",
       "    <tr>\n",
       "      <th>2</th>\n",
       "      <td>Magnolia</td>\n",
       "      <td>₹398</td>\n",
       "      <td>60% off</td>\n",
       "    </tr>\n",
       "    <tr>\n",
       "      <th>3</th>\n",
       "      <td>Labbin</td>\n",
       "      <td>₹499</td>\n",
       "      <td>50% off</td>\n",
       "    </tr>\n",
       "    <tr>\n",
       "      <th>4</th>\n",
       "      <td>luxury fashion</td>\n",
       "      <td>₹449</td>\n",
       "      <td>65% off</td>\n",
       "    </tr>\n",
       "    <tr>\n",
       "      <th>...</th>\n",
       "      <td>...</td>\n",
       "      <td>...</td>\n",
       "      <td>...</td>\n",
       "    </tr>\n",
       "    <tr>\n",
       "      <th>95</th>\n",
       "      <td>CALCADOS</td>\n",
       "      <td>₹498</td>\n",
       "      <td>56% off</td>\n",
       "    </tr>\n",
       "    <tr>\n",
       "      <th>96</th>\n",
       "      <td>Echor</td>\n",
       "      <td>₹386</td>\n",
       "      <td>56% off</td>\n",
       "    </tr>\n",
       "    <tr>\n",
       "      <th>97</th>\n",
       "      <td>CLYMB</td>\n",
       "      <td>₹649</td>\n",
       "      <td>66% off</td>\n",
       "    </tr>\n",
       "    <tr>\n",
       "      <th>98</th>\n",
       "      <td>KNIGHT WALKERS</td>\n",
       "      <td>₹649</td>\n",
       "      <td>50% off</td>\n",
       "    </tr>\n",
       "    <tr>\n",
       "      <th>99</th>\n",
       "      <td>Advick</td>\n",
       "      <td>₹828</td>\n",
       "      <td>55% off</td>\n",
       "    </tr>\n",
       "  </tbody>\n",
       "</table>\n",
       "<p>100 rows × 3 columns</p>\n",
       "</div>"
      ],
      "text/plain": [
       "        Brand Name   Price Discount\n",
       "0             aadi    ₹499  50% off\n",
       "1         RED TAPE  ₹1,648  70% off\n",
       "2         Magnolia    ₹398  60% off\n",
       "3           Labbin    ₹499  50% off\n",
       "4   luxury fashion    ₹449  65% off\n",
       "..             ...     ...      ...\n",
       "95        CALCADOS    ₹498  56% off\n",
       "96           Echor    ₹386  56% off\n",
       "97           CLYMB    ₹649  66% off\n",
       "98  KNIGHT WALKERS    ₹649  50% off\n",
       "99          Advick    ₹828  55% off\n",
       "\n",
       "[100 rows x 3 columns]"
      ]
     },
     "execution_count": 188,
     "metadata": {},
     "output_type": "execute_result"
    }
   ],
   "source": [
    "df = pd.DataFrame({'Brand Name':brand_name, 'Price':prices, 'Discount':discount})\n",
    "df"
   ]
  },
  {
   "cell_type": "markdown",
   "id": "1674c1cc",
   "metadata": {},
   "source": [
    "# Question.7"
   ]
  },
  {
   "cell_type": "code",
   "execution_count": 254,
   "id": "7c99193b",
   "metadata": {},
   "outputs": [],
   "source": [
    "url = 'https://www.myntra.com/shoes'\n",
    "driver.get(url)"
   ]
  },
  {
   "cell_type": "code",
   "execution_count": 255,
   "id": "32a8fac3",
   "metadata": {},
   "outputs": [],
   "source": [
    "#Setting Price Filter\n",
    "price_filter = driver.find_element_by_xpath('//ul[@class=\"price-list\"]//li[2]')"
   ]
  },
  {
   "cell_type": "code",
   "execution_count": 256,
   "id": "6aa3f4df",
   "metadata": {},
   "outputs": [],
   "source": [
    "price_filter.click()"
   ]
  },
  {
   "cell_type": "code",
   "execution_count": 257,
   "id": "40dbf08b",
   "metadata": {},
   "outputs": [],
   "source": [
    "#Setting Color Filter\n",
    "color_filter = driver.find_element_by_xpath('//li[@class=\"colour-listItem\"]//span[2]')"
   ]
  },
  {
   "cell_type": "code",
   "execution_count": 258,
   "id": "3e221b5a",
   "metadata": {},
   "outputs": [],
   "source": [
    "color_filter.click()"
   ]
  },
  {
   "cell_type": "markdown",
   "id": "52055e5f",
   "metadata": {},
   "source": [
    "# SCRAPING THE DATA"
   ]
  },
  {
   "cell_type": "markdown",
   "id": "3a909640",
   "metadata": {},
   "source": [
    "Extracting Page1 data:"
   ]
  },
  {
   "cell_type": "code",
   "execution_count": 259,
   "id": "f59fc4c0",
   "metadata": {},
   "outputs": [
    {
     "data": {
      "text/plain": [
       "50"
      ]
     },
     "execution_count": 259,
     "metadata": {},
     "output_type": "execute_result"
    }
   ],
   "source": [
    "brand = driver.find_elements_by_xpath('//h3[@class=\"product-brand\"]')\n",
    "\n",
    "brand_name = []\n",
    "\n",
    "for i in brand:\n",
    "    brand_name.append(i.text)\n",
    "    \n",
    "len(brand_name)"
   ]
  },
  {
   "cell_type": "code",
   "execution_count": 260,
   "id": "01faa05b",
   "metadata": {},
   "outputs": [
    {
     "data": {
      "text/plain": [
       "50"
      ]
     },
     "execution_count": 260,
     "metadata": {},
     "output_type": "execute_result"
    }
   ],
   "source": [
    "desc = driver.find_elements_by_xpath('//h4[@class=\"product-product\"]')\n",
    "\n",
    "description = []\n",
    "\n",
    "for i in desc:\n",
    "    description.append(i.text)\n",
    "    \n",
    "len(description)"
   ]
  },
  {
   "cell_type": "code",
   "execution_count": 261,
   "id": "56863d23",
   "metadata": {},
   "outputs": [
    {
     "data": {
      "text/plain": [
       "50"
      ]
     },
     "execution_count": 261,
     "metadata": {},
     "output_type": "execute_result"
    }
   ],
   "source": [
    "price = driver.find_elements_by_xpath('//div[@class=\"product-price\"]')\n",
    "\n",
    "prices = []\n",
    "\n",
    "for i in price:\n",
    "    prices.append(i.text)\n",
    "    \n",
    "len(prices)"
   ]
  },
  {
   "cell_type": "markdown",
   "id": "db7e11d2",
   "metadata": {},
   "source": [
    "Moving to Page2:"
   ]
  },
  {
   "cell_type": "code",
   "execution_count": 262,
   "id": "aeaf9907",
   "metadata": {},
   "outputs": [],
   "source": [
    "next_page = driver.find_element_by_xpath('//li[@class=\"pagination-next\"]')"
   ]
  },
  {
   "cell_type": "code",
   "execution_count": 263,
   "id": "da9c5904",
   "metadata": {},
   "outputs": [],
   "source": [
    "next_page.click()"
   ]
  },
  {
   "cell_type": "code",
   "execution_count": 264,
   "id": "f02fc755",
   "metadata": {},
   "outputs": [
    {
     "data": {
      "text/plain": [
       "50"
      ]
     },
     "execution_count": 264,
     "metadata": {},
     "output_type": "execute_result"
    }
   ],
   "source": [
    "brand = driver.find_elements_by_xpath('//h3[@class=\"product-brand\"]')\n",
    "\n",
    "brand_name1 = []\n",
    "\n",
    "for i in brand:\n",
    "    brand_name1.append(i.text)\n",
    "    \n",
    "len(brand_name1)"
   ]
  },
  {
   "cell_type": "code",
   "execution_count": 265,
   "id": "c5355d05",
   "metadata": {},
   "outputs": [
    {
     "data": {
      "text/plain": [
       "50"
      ]
     },
     "execution_count": 265,
     "metadata": {},
     "output_type": "execute_result"
    }
   ],
   "source": [
    "desc = driver.find_elements_by_xpath('//h4[@class=\"product-product\"]')\n",
    "\n",
    "description1 = []\n",
    "\n",
    "for i in desc:\n",
    "    description1.append(i.text)\n",
    "    \n",
    "len(description1)"
   ]
  },
  {
   "cell_type": "code",
   "execution_count": 266,
   "id": "b80ccbdc",
   "metadata": {},
   "outputs": [
    {
     "data": {
      "text/plain": [
       "50"
      ]
     },
     "execution_count": 266,
     "metadata": {},
     "output_type": "execute_result"
    }
   ],
   "source": [
    "price = driver.find_elements_by_xpath('//div[@class=\"product-price\"]')\n",
    "\n",
    "prices1 = []\n",
    "\n",
    "for i in price:\n",
    "    prices1.append(i.text)\n",
    "    \n",
    "len(prices1)"
   ]
  },
  {
   "cell_type": "code",
   "execution_count": 267,
   "id": "cf74bd9f",
   "metadata": {},
   "outputs": [
    {
     "data": {
      "text/plain": [
       "100"
      ]
     },
     "execution_count": 267,
     "metadata": {},
     "output_type": "execute_result"
    }
   ],
   "source": [
    "Brand = brand_name + brand_name1\n",
    "len(Brand)"
   ]
  },
  {
   "cell_type": "code",
   "execution_count": 268,
   "id": "b320d8a6",
   "metadata": {},
   "outputs": [
    {
     "data": {
      "text/plain": [
       "100"
      ]
     },
     "execution_count": 268,
     "metadata": {},
     "output_type": "execute_result"
    }
   ],
   "source": [
    "Description = description + description1\n",
    "len(Description)"
   ]
  },
  {
   "cell_type": "code",
   "execution_count": 269,
   "id": "e22d88f2",
   "metadata": {},
   "outputs": [
    {
     "data": {
      "text/plain": [
       "100"
      ]
     },
     "execution_count": 269,
     "metadata": {},
     "output_type": "execute_result"
    }
   ],
   "source": [
    "Price = prices + prices1\n",
    "len(Price)"
   ]
  },
  {
   "cell_type": "code",
   "execution_count": 270,
   "id": "646727f0",
   "metadata": {},
   "outputs": [],
   "source": [
    "import pandas as pd"
   ]
  },
  {
   "cell_type": "markdown",
   "id": "f0fe2c60",
   "metadata": {},
   "source": [
    "Making DataFrame"
   ]
  },
  {
   "cell_type": "code",
   "execution_count": 271,
   "id": "38f18533",
   "metadata": {},
   "outputs": [
    {
     "data": {
      "text/html": [
       "<div>\n",
       "<style scoped>\n",
       "    .dataframe tbody tr th:only-of-type {\n",
       "        vertical-align: middle;\n",
       "    }\n",
       "\n",
       "    .dataframe tbody tr th {\n",
       "        vertical-align: top;\n",
       "    }\n",
       "\n",
       "    .dataframe thead th {\n",
       "        text-align: right;\n",
       "    }\n",
       "</style>\n",
       "<table border=\"1\" class=\"dataframe\">\n",
       "  <thead>\n",
       "    <tr style=\"text-align: right;\">\n",
       "      <th></th>\n",
       "      <th>Brand</th>\n",
       "      <th>Description</th>\n",
       "      <th>Prices</th>\n",
       "    </tr>\n",
       "  </thead>\n",
       "  <tbody>\n",
       "    <tr>\n",
       "      <th>0</th>\n",
       "      <td>Puma</td>\n",
       "      <td>Men Running Shoes</td>\n",
       "      <td>Rs. 7149Rs. 12999(45% OFF)</td>\n",
       "    </tr>\n",
       "    <tr>\n",
       "      <th>1</th>\n",
       "      <td>Puma</td>\n",
       "      <td>Men Magnify Nitro Running</td>\n",
       "      <td>Rs. 7799Rs. 12999(40% OFF)</td>\n",
       "    </tr>\n",
       "    <tr>\n",
       "      <th>2</th>\n",
       "      <td>Delize</td>\n",
       "      <td>Block Heeled Boots</td>\n",
       "      <td>Rs. 9999</td>\n",
       "    </tr>\n",
       "    <tr>\n",
       "      <th>3</th>\n",
       "      <td>Bugatti</td>\n",
       "      <td>Men Running Shoes</td>\n",
       "      <td>Rs. 7999Rs. 9999(20% OFF)</td>\n",
       "    </tr>\n",
       "    <tr>\n",
       "      <th>4</th>\n",
       "      <td>Delize</td>\n",
       "      <td>High-Top Block Heeled Boots</td>\n",
       "      <td>Rs. 9999</td>\n",
       "    </tr>\n",
       "    <tr>\n",
       "      <th>...</th>\n",
       "      <td>...</td>\n",
       "      <td>...</td>\n",
       "      <td>...</td>\n",
       "    </tr>\n",
       "    <tr>\n",
       "      <th>95</th>\n",
       "      <td>Hush Puppies</td>\n",
       "      <td>Men Solid Leather Formal Slip-Ons</td>\n",
       "      <td>Rs. 8999Rs. 9999(10% OFF)</td>\n",
       "    </tr>\n",
       "    <tr>\n",
       "      <th>96</th>\n",
       "      <td>ROSSO BRUNELLO</td>\n",
       "      <td>Men Solid Boat Shoes</td>\n",
       "      <td>Rs. 7199Rs. 8999(20% OFF)</td>\n",
       "    </tr>\n",
       "    <tr>\n",
       "      <th>97</th>\n",
       "      <td>ECCO</td>\n",
       "      <td>Helsinki Bike Toe Lace Shoes</td>\n",
       "      <td>Rs. 12999</td>\n",
       "    </tr>\n",
       "    <tr>\n",
       "      <th>98</th>\n",
       "      <td>Saint G</td>\n",
       "      <td>Women Leather Heeled Boots</td>\n",
       "      <td>Rs. 12325Rs. 14500(15% OFF)</td>\n",
       "    </tr>\n",
       "    <tr>\n",
       "      <th>99</th>\n",
       "      <td>Clarks</td>\n",
       "      <td>Men Solid Formal Leather Derbys</td>\n",
       "      <td>Rs. 9999</td>\n",
       "    </tr>\n",
       "  </tbody>\n",
       "</table>\n",
       "<p>100 rows × 3 columns</p>\n",
       "</div>"
      ],
      "text/plain": [
       "             Brand                        Description  \\\n",
       "0             Puma                  Men Running Shoes   \n",
       "1             Puma          Men Magnify Nitro Running   \n",
       "2           Delize                 Block Heeled Boots   \n",
       "3          Bugatti                  Men Running Shoes   \n",
       "4           Delize        High-Top Block Heeled Boots   \n",
       "..             ...                                ...   \n",
       "95    Hush Puppies  Men Solid Leather Formal Slip-Ons   \n",
       "96  ROSSO BRUNELLO               Men Solid Boat Shoes   \n",
       "97            ECCO       Helsinki Bike Toe Lace Shoes   \n",
       "98         Saint G         Women Leather Heeled Boots   \n",
       "99          Clarks    Men Solid Formal Leather Derbys   \n",
       "\n",
       "                         Prices  \n",
       "0    Rs. 7149Rs. 12999(45% OFF)  \n",
       "1    Rs. 7799Rs. 12999(40% OFF)  \n",
       "2                      Rs. 9999  \n",
       "3     Rs. 7999Rs. 9999(20% OFF)  \n",
       "4                      Rs. 9999  \n",
       "..                          ...  \n",
       "95    Rs. 8999Rs. 9999(10% OFF)  \n",
       "96    Rs. 7199Rs. 8999(20% OFF)  \n",
       "97                    Rs. 12999  \n",
       "98  Rs. 12325Rs. 14500(15% OFF)  \n",
       "99                     Rs. 9999  \n",
       "\n",
       "[100 rows x 3 columns]"
      ]
     },
     "execution_count": 271,
     "metadata": {},
     "output_type": "execute_result"
    }
   ],
   "source": [
    "Shoes = pd.DataFrame({'Brand' : Brand, 'Description' : Description, 'Prices' : Price})\n",
    "Shoes"
   ]
  },
  {
   "cell_type": "markdown",
   "id": "13f749b3",
   "metadata": {},
   "source": [
    "# Question. 8"
   ]
  },
  {
   "cell_type": "code",
   "execution_count": 208,
   "id": "25563506",
   "metadata": {},
   "outputs": [],
   "source": [
    "url = 'https://www.amazon.in/'\n",
    "driver.get(url)"
   ]
  },
  {
   "cell_type": "code",
   "execution_count": 209,
   "id": "75d034a2",
   "metadata": {},
   "outputs": [],
   "source": [
    "search_bar = driver.find_element_by_id(\"twotabsearchtextbox\")"
   ]
  },
  {
   "cell_type": "code",
   "execution_count": 210,
   "id": "c2164f8f",
   "metadata": {},
   "outputs": [],
   "source": [
    "search_bar.send_keys('Laptop')"
   ]
  },
  {
   "cell_type": "code",
   "execution_count": 211,
   "id": "530c818e",
   "metadata": {},
   "outputs": [],
   "source": [
    "search_button = driver.find_element_by_id(\"nav-search-submit-button\")"
   ]
  },
  {
   "cell_type": "code",
   "execution_count": 212,
   "id": "564d1d4c",
   "metadata": {},
   "outputs": [],
   "source": [
    "search_button.click()\n",
    "\n",
    "time.sleep(3)"
   ]
  },
  {
   "cell_type": "code",
   "execution_count": 213,
   "id": "14d33cd6",
   "metadata": {},
   "outputs": [],
   "source": [
    "filter1 = driver.find_element_by_xpath('/html/body/div[1]/div[2]/div[1]/div[2]/div/div[3]/span/div[1]/span/div/div/div[6]/div/div/div[1]/div/span[1]/a[12]/div/span')\n",
    "\n",
    "filter1.click()"
   ]
  },
  {
   "cell_type": "code",
   "execution_count": 214,
   "id": "f303a5ee",
   "metadata": {},
   "outputs": [
    {
     "data": {
      "text/plain": [
       "10"
      ]
     },
     "execution_count": 214,
     "metadata": {},
     "output_type": "execute_result"
    }
   ],
   "source": [
    "title = driver.find_elements_by_xpath('//span[@class=\"a-size-medium a-color-base a-text-normal\"]')[:10]\n",
    "\n",
    "Title = []\n",
    "\n",
    "for i in title:\n",
    "    Title.append(i.text)\n",
    "    \n",
    "len(Title)"
   ]
  },
  {
   "cell_type": "code",
   "execution_count": 215,
   "id": "a51c588d",
   "metadata": {},
   "outputs": [
    {
     "data": {
      "text/plain": [
       "10"
      ]
     },
     "execution_count": 215,
     "metadata": {},
     "output_type": "execute_result"
    }
   ],
   "source": [
    "price = driver.find_elements_by_xpath('//span[@class=\"a-price-whole\"]')[:10]\n",
    "\n",
    "Price = []\n",
    "\n",
    "for i in price:\n",
    "    Price.append(i.text)\n",
    "    \n",
    "len(Price)"
   ]
  },
  {
   "cell_type": "code",
   "execution_count": 216,
   "id": "7f0dbd80",
   "metadata": {},
   "outputs": [
    {
     "data": {
      "text/plain": [
       "['https://www.amazon.in/gp/slredirect/picassoRedirect.html/ref=pa_sp_atf_computers_sr_pg1_1?ie=UTF8&adId=A0177451AYD2L01EBUN0&url=%2FDell-Inspiron-i5-1135G7-Integrated-D560437WIN9SE%2Fdp%2FB08X4PZZMM%2Fref%3Dsr_1_1_sspa%3Fcrid%3DCH5BF2D77JMO%26keywords%3DLaptop%26qid%3D1642328635%26refinements%3Dp_n_feature_thirteen_browse-bin%253A12598164031%26rnid%3D12598141031%26s%3Dcomputers%26sprefix%3Dlaptop%252Caps%252C679%26sr%3D1-1-spons%26psc%3D1&qualifier=1642328635&id=5830037536309582&widgetName=sp_atf',\n",
       " 'https://www.amazon.in/gp/slredirect/picassoRedirect.html/ref=pa_sp_atf_computers_sr_pg1_1?ie=UTF8&adId=A08910972E0ASR9G87Y&url=%2FAcer-Processor-Business-Integrated-EX215-31%2Fdp%2FB09MJ52H9S%2Fref%3Dsr_1_2_sspa%3Fcrid%3DCH5BF2D77JMO%26keywords%3DLaptop%26qid%3D1642328635%26refinements%3Dp_n_feature_thirteen_browse-bin%253A12598164031%26rnid%3D12598141031%26s%3Dcomputers%26sprefix%3Dlaptop%252Caps%252C679%26sr%3D1-2-spons%26psc%3D1&qualifier=1642328635&id=5830037536309582&widgetName=sp_atf',\n",
       " 'https://www.amazon.in/Dell-Integrated-Inspiron-3510-D560717WIN9B/dp/B09NLR1TWF/ref=sr_1_3?crid=CH5BF2D77JMO&keywords=Laptop&qid=1642328635&refinements=p_n_feature_thirteen_browse-bin%3A12598164031&rnid=12598141031&s=computers&sprefix=laptop%2Caps%2C679&sr=1-3',\n",
       " 'https://www.amazon.in/Acer-Processor-Business-Integrated-EX215-31/dp/B095BYNN8Z/ref=sr_1_4?crid=CH5BF2D77JMO&keywords=Laptop&qid=1642328635&refinements=p_n_feature_thirteen_browse-bin%3A12598164031&rnid=12598141031&s=computers&sprefix=laptop%2Caps%2C679&sr=1-4',\n",
       " 'https://www.amazon.in/Acer-Processor-Business-Integrated-EX215-31/dp/B09MJ52H9S/ref=sr_1_5?crid=CH5BF2D77JMO&keywords=Laptop&qid=1642328635&refinements=p_n_feature_thirteen_browse-bin%3A12598164031&rnid=12598141031&s=computers&sprefix=laptop%2Caps%2C679&sr=1-5',\n",
       " 'https://www.amazon.in/Microsoft-1793-Quad-core-processor-Integrated/dp/B08BD43MZ7/ref=sr_1_6?crid=CH5BF2D77JMO&keywords=Laptop&qid=1642328635&refinements=p_n_feature_thirteen_browse-bin%3A12598164031&rnid=12598141031&s=computers&sprefix=laptop%2Caps%2C679&sr=1-6',\n",
       " 'https://www.amazon.in/Dell-Inspiron-i5-1135G7-Integrated-D560437WIN9SE/dp/B08X4PZZMM/ref=sr_1_7?crid=CH5BF2D77JMO&keywords=Laptop&qid=1642328635&refinements=p_n_feature_thirteen_browse-bin%3A12598164031&rnid=12598141031&s=computers&sprefix=laptop%2Caps%2C679&sr=1-7',\n",
       " 'https://www.amazon.in/Microsoft-STQ-00013-10-1-inch-Processor-Graphics/dp/B08DHHB2W1/ref=sr_1_8?crid=CH5BF2D77JMO&keywords=Laptop&qid=1642328635&refinements=p_n_feature_thirteen_browse-bin%3A12598164031&rnid=12598141031&s=computers&sprefix=laptop%2Caps%2C679&sr=1-8',\n",
       " 'https://www.amazon.in/Dell-Inspiron-Integrated-Graphics-D560427WIN9BE/dp/B08X4N3DW2/ref=sr_1_9?crid=CH5BF2D77JMO&keywords=Laptop&qid=1642328635&refinements=p_n_feature_thirteen_browse-bin%3A12598164031&rnid=12598141031&s=computers&sprefix=laptop%2Caps%2C679&sr=1-9',\n",
       " 'https://www.amazon.in/Microsoft-STQ-00013-10-1-inch-Processor-Graphics/dp/B08LCPL57G/ref=sr_1_10?crid=CH5BF2D77JMO&keywords=Laptop&qid=1642328635&refinements=p_n_feature_thirteen_browse-bin%3A12598164031&rnid=12598141031&s=computers&sprefix=laptop%2Caps%2C679&sr=1-10']"
      ]
     },
     "execution_count": 216,
     "metadata": {},
     "output_type": "execute_result"
    }
   ],
   "source": [
    "url = []\n",
    "\n",
    "link = driver.find_elements_by_xpath('//a[@class=\"a-link-normal s-link-style a-text-normal\"]')[:10]\n",
    "\n",
    "for i in link:\n",
    "    url.append(i.get_attribute('href'))\n",
    "    \n",
    "url      "
   ]
  },
  {
   "cell_type": "code",
   "execution_count": 217,
   "id": "cd4f473c",
   "metadata": {},
   "outputs": [],
   "source": [
    "Ratings = []"
   ]
  },
  {
   "cell_type": "code",
   "execution_count": 220,
   "id": "bb71ee65",
   "metadata": {},
   "outputs": [],
   "source": [
    "for i in url:\n",
    "    try:\n",
    "        driver.get(i)\n",
    "        R = driver.find_element_by_xpath('//span[@class=\"a-size-base a-nowrap\"]')\n",
    "        R1=[]\n",
    "        R1.append(R.text.replace('o',' '))\n",
    "        for k in range(0,len(R1)):\n",
    "            Ratings.append(R1[k][:3])\n",
    "    \n",
    "    except NoSuchElementException:\n",
    "        N = ['No Ratings']\n",
    "        for i in N:\n",
    "            Ratings.append(i)\n",
    "        pass\n"
   ]
  },
  {
   "cell_type": "code",
   "execution_count": 222,
   "id": "9e1a00cb",
   "metadata": {},
   "outputs": [
    {
     "data": {
      "text/plain": [
       "['3.9',\n",
       " '4.2',\n",
       " 'No Ratings',\n",
       " '3.5',\n",
       " '4.2',\n",
       " '3.2',\n",
       " '3.9',\n",
       " '4.1',\n",
       " '4.3',\n",
       " 'No Ratings']"
      ]
     },
     "execution_count": 222,
     "metadata": {},
     "output_type": "execute_result"
    }
   ],
   "source": [
    "Ratings"
   ]
  },
  {
   "cell_type": "code",
   "execution_count": 223,
   "id": "287c04e6",
   "metadata": {},
   "outputs": [],
   "source": [
    "import pandas as pd"
   ]
  },
  {
   "cell_type": "markdown",
   "id": "a92ee49a",
   "metadata": {},
   "source": [
    "Making DataFrame"
   ]
  },
  {
   "cell_type": "code",
   "execution_count": 225,
   "id": "b88690cc",
   "metadata": {},
   "outputs": [
    {
     "data": {
      "text/html": [
       "<div>\n",
       "<style scoped>\n",
       "    .dataframe tbody tr th:only-of-type {\n",
       "        vertical-align: middle;\n",
       "    }\n",
       "\n",
       "    .dataframe tbody tr th {\n",
       "        vertical-align: top;\n",
       "    }\n",
       "\n",
       "    .dataframe thead th {\n",
       "        text-align: right;\n",
       "    }\n",
       "</style>\n",
       "<table border=\"1\" class=\"dataframe\">\n",
       "  <thead>\n",
       "    <tr style=\"text-align: right;\">\n",
       "      <th></th>\n",
       "      <th>Title</th>\n",
       "      <th>Rating</th>\n",
       "      <th>Price</th>\n",
       "    </tr>\n",
       "  </thead>\n",
       "  <tbody>\n",
       "    <tr>\n",
       "      <th>0</th>\n",
       "      <td>Dell Inspiron 3501 15.6 inches FHD Display Lap...</td>\n",
       "      <td>3.9</td>\n",
       "      <td>56,990</td>\n",
       "    </tr>\n",
       "    <tr>\n",
       "      <th>1</th>\n",
       "      <td>Acer Extensa 15 Thin &amp; Light Intel Processor P...</td>\n",
       "      <td>4.2</td>\n",
       "      <td>31,490</td>\n",
       "    </tr>\n",
       "    <tr>\n",
       "      <th>2</th>\n",
       "      <td>Dell 15 (2021) PQC-N5030, 4GB, 256GB SSD, Win ...</td>\n",
       "      <td>No Ratings</td>\n",
       "      <td>30,990</td>\n",
       "    </tr>\n",
       "    <tr>\n",
       "      <th>3</th>\n",
       "      <td>Acer Extensa 15 Thin &amp; Light Intel Processor P...</td>\n",
       "      <td>3.5</td>\n",
       "      <td>30,740</td>\n",
       "    </tr>\n",
       "    <tr>\n",
       "      <th>4</th>\n",
       "      <td>Acer Extensa 15 Thin &amp; Light Intel Processor P...</td>\n",
       "      <td>4.2</td>\n",
       "      <td>31,490</td>\n",
       "    </tr>\n",
       "    <tr>\n",
       "      <th>5</th>\n",
       "      <td>Microsoft Surface GO 3 8VA-00013 10.5\" (26.67 ...</td>\n",
       "      <td>3.2</td>\n",
       "      <td>50,990</td>\n",
       "    </tr>\n",
       "    <tr>\n",
       "      <th>6</th>\n",
       "      <td>Dell Inspiron 3501 15.6 inches FHD Display Lap...</td>\n",
       "      <td>3.9</td>\n",
       "      <td>56,990</td>\n",
       "    </tr>\n",
       "    <tr>\n",
       "      <th>7</th>\n",
       "      <td>Microsoft Surface GO 2 STQ-00013 10.1\" (26.54 ...</td>\n",
       "      <td>4.1</td>\n",
       "      <td>52,990</td>\n",
       "    </tr>\n",
       "    <tr>\n",
       "      <th>8</th>\n",
       "      <td>Dell Inspiron 3502 15.6 inches HD Display Lapt...</td>\n",
       "      <td>4.3</td>\n",
       "      <td>36,011</td>\n",
       "    </tr>\n",
       "    <tr>\n",
       "      <th>9</th>\n",
       "      <td>(Renewed) Microsoft Surface GO 2 Intel Pentium...</td>\n",
       "      <td>No Ratings</td>\n",
       "      <td>45,041</td>\n",
       "    </tr>\n",
       "  </tbody>\n",
       "</table>\n",
       "</div>"
      ],
      "text/plain": [
       "                                               Title      Rating   Price\n",
       "0  Dell Inspiron 3501 15.6 inches FHD Display Lap...         3.9  56,990\n",
       "1  Acer Extensa 15 Thin & Light Intel Processor P...         4.2  31,490\n",
       "2  Dell 15 (2021) PQC-N5030, 4GB, 256GB SSD, Win ...  No Ratings  30,990\n",
       "3  Acer Extensa 15 Thin & Light Intel Processor P...         3.5  30,740\n",
       "4  Acer Extensa 15 Thin & Light Intel Processor P...         4.2  31,490\n",
       "5  Microsoft Surface GO 3 8VA-00013 10.5\" (26.67 ...         3.2  50,990\n",
       "6  Dell Inspiron 3501 15.6 inches FHD Display Lap...         3.9  56,990\n",
       "7  Microsoft Surface GO 2 STQ-00013 10.1\" (26.54 ...         4.1  52,990\n",
       "8  Dell Inspiron 3502 15.6 inches HD Display Lapt...         4.3  36,011\n",
       "9  (Renewed) Microsoft Surface GO 2 Intel Pentium...  No Ratings  45,041"
      ]
     },
     "execution_count": 225,
     "metadata": {},
     "output_type": "execute_result"
    }
   ],
   "source": [
    "laptop = pd.DataFrame({'Title' : Title, 'Rating' : Ratings, 'Price' : Price})\n",
    "laptop"
   ]
  },
  {
   "cell_type": "markdown",
   "id": "339437ba",
   "metadata": {},
   "source": [
    "# Question.9"
   ]
  },
  {
   "cell_type": "code",
   "execution_count": 226,
   "id": "ad13a6e2",
   "metadata": {},
   "outputs": [],
   "source": [
    "url = 'https://www.ambitionbox.com/'\n",
    "driver.get(url)"
   ]
  },
  {
   "cell_type": "code",
   "execution_count": 227,
   "id": "d3407a2b",
   "metadata": {},
   "outputs": [],
   "source": [
    "select_job = driver.find_element_by_xpath('//a[@class=\"link jobs\"]')\n",
    "\n",
    "select_job.click()"
   ]
  },
  {
   "cell_type": "code",
   "execution_count": 228,
   "id": "309aa670",
   "metadata": {},
   "outputs": [],
   "source": [
    "search_job = driver.find_element_by_xpath('//input[@class=\"input tt-input\"]')"
   ]
  },
  {
   "cell_type": "code",
   "execution_count": 229,
   "id": "d5105c8e",
   "metadata": {},
   "outputs": [],
   "source": [
    "search_job.send_keys('Data Scientist')"
   ]
  },
  {
   "cell_type": "code",
   "execution_count": 230,
   "id": "f6025c5b",
   "metadata": {},
   "outputs": [],
   "source": [
    "search_bar = driver.find_element_by_xpath('//span[@class=\"ctas-btn-medium\"]')\n",
    "search_bar.click()"
   ]
  },
  {
   "cell_type": "code",
   "execution_count": 231,
   "id": "b0e7c685",
   "metadata": {},
   "outputs": [],
   "source": [
    "#Selecting Location Filter\n",
    "loc = driver.find_element_by_xpath('/html/body/div/div/div/div[2]/div[2]/div[1]/div/div/div/div[2]/div[1]/i')\n",
    "loc.click()"
   ]
  },
  {
   "cell_type": "code",
   "execution_count": 233,
   "id": "e0fdfe5a",
   "metadata": {},
   "outputs": [],
   "source": [
    "#Writing Noida in location\n",
    "box = driver.find_element_by_xpath('/html/body/div/div/div/div[2]/div[2]/div[1]/div/div/div/div[2]/div[2]/div/div[2]/input')\n",
    "box.send_keys('Noida')"
   ]
  },
  {
   "cell_type": "code",
   "execution_count": 234,
   "id": "b4a1827c",
   "metadata": {},
   "outputs": [],
   "source": [
    "#Selecting Noida from dropdown\n",
    "select = driver.find_element_by_xpath('/html/body/div/div/div/div[2]/div[2]/div[1]/div/div/div/div[2]/div[2]/div/div[3]/div[1]/div[1]/div/label')\n",
    "select.click()\n",
    "\n",
    "time.sleep(3)"
   ]
  },
  {
   "cell_type": "markdown",
   "id": "106b619b",
   "metadata": {},
   "source": [
    "# SCRAPING THE DATA"
   ]
  },
  {
   "cell_type": "markdown",
   "id": "0e94b5af",
   "metadata": {},
   "source": [
    "Extracting Required Data"
   ]
  },
  {
   "cell_type": "code",
   "execution_count": 235,
   "id": "d11246c6",
   "metadata": {},
   "outputs": [
    {
     "data": {
      "text/plain": [
       "['HCL',\n",
       " 'Jubilant Foodworks Limited',\n",
       " 'Ameriprise Financial',\n",
       " 'Paytm',\n",
       " 'CHT Sapiense',\n",
       " 'CHT Sapiense',\n",
       " 'GI Group',\n",
       " 'GI Group',\n",
       " 'GI Group',\n",
       " 'Cargoflash']"
      ]
     },
     "execution_count": 235,
     "metadata": {},
     "output_type": "execute_result"
    }
   ],
   "source": [
    "name = driver.find_elements_by_xpath('//p[@class=\"company body-medium\"]')[:10]\n",
    "\n",
    "Name = []\n",
    "\n",
    "for i in name:\n",
    "    Name.append(i.text)\n",
    "    \n",
    "Name"
   ]
  },
  {
   "cell_type": "code",
   "execution_count": 236,
   "id": "80374113",
   "metadata": {},
   "outputs": [
    {
     "data": {
      "text/plain": [
       "['3.8', '3.9', '4.0', '3.7', '3.8', '3.8', '4.1', '4.1', '4.1', '3.8']"
      ]
     },
     "execution_count": 236,
     "metadata": {},
     "output_type": "execute_result"
    }
   ],
   "source": [
    "rating = driver.find_elements_by_xpath('//span[@class=\"body-small\"]')[:10]\n",
    "\n",
    "Rating = []\n",
    "\n",
    "for i in rating:\n",
    "    Rating.append(i.text)\n",
    "    \n",
    "Rating"
   ]
  },
  {
   "cell_type": "code",
   "execution_count": 237,
   "id": "55e5f10b",
   "metadata": {},
   "outputs": [
    {
     "data": {
      "text/plain": [
       "['2d ago',\n",
       " '2d ago',\n",
       " '4d ago',\n",
       " '10d ago',\n",
       " '11d ago',\n",
       " '12d ago',\n",
       " '23d ago',\n",
       " '23d ago',\n",
       " '23d ago',\n",
       " '1d ago']"
      ]
     },
     "execution_count": 237,
     "metadata": {},
     "output_type": "execute_result"
    }
   ],
   "source": [
    "days = driver.find_elements_by_xpath('//span[@class=\"body-small-l\"][1]')[:10]\n",
    "\n",
    "Days = []\n",
    "\n",
    "for i in days:\n",
    "    Days.append(i.text)\n",
    "    \n",
    "Days"
   ]
  },
  {
   "cell_type": "code",
   "execution_count": 238,
   "id": "6d08f0bd",
   "metadata": {},
   "outputs": [],
   "source": [
    "import pandas as pd"
   ]
  },
  {
   "cell_type": "markdown",
   "id": "718821a0",
   "metadata": {},
   "source": [
    "Making DataFrame"
   ]
  },
  {
   "cell_type": "code",
   "execution_count": 239,
   "id": "745b04f5",
   "metadata": {},
   "outputs": [
    {
     "data": {
      "text/html": [
       "<div>\n",
       "<style scoped>\n",
       "    .dataframe tbody tr th:only-of-type {\n",
       "        vertical-align: middle;\n",
       "    }\n",
       "\n",
       "    .dataframe tbody tr th {\n",
       "        vertical-align: top;\n",
       "    }\n",
       "\n",
       "    .dataframe thead th {\n",
       "        text-align: right;\n",
       "    }\n",
       "</style>\n",
       "<table border=\"1\" class=\"dataframe\">\n",
       "  <thead>\n",
       "    <tr style=\"text-align: right;\">\n",
       "      <th></th>\n",
       "      <th>Company Name</th>\n",
       "      <th>Rating</th>\n",
       "      <th>Job Posted</th>\n",
       "    </tr>\n",
       "  </thead>\n",
       "  <tbody>\n",
       "    <tr>\n",
       "      <th>0</th>\n",
       "      <td>HCL</td>\n",
       "      <td>3.8</td>\n",
       "      <td>2d ago</td>\n",
       "    </tr>\n",
       "    <tr>\n",
       "      <th>1</th>\n",
       "      <td>Jubilant Foodworks Limited</td>\n",
       "      <td>3.9</td>\n",
       "      <td>2d ago</td>\n",
       "    </tr>\n",
       "    <tr>\n",
       "      <th>2</th>\n",
       "      <td>Ameriprise Financial</td>\n",
       "      <td>4.0</td>\n",
       "      <td>4d ago</td>\n",
       "    </tr>\n",
       "    <tr>\n",
       "      <th>3</th>\n",
       "      <td>Paytm</td>\n",
       "      <td>3.7</td>\n",
       "      <td>10d ago</td>\n",
       "    </tr>\n",
       "    <tr>\n",
       "      <th>4</th>\n",
       "      <td>CHT Sapiense</td>\n",
       "      <td>3.8</td>\n",
       "      <td>11d ago</td>\n",
       "    </tr>\n",
       "    <tr>\n",
       "      <th>5</th>\n",
       "      <td>CHT Sapiense</td>\n",
       "      <td>3.8</td>\n",
       "      <td>12d ago</td>\n",
       "    </tr>\n",
       "    <tr>\n",
       "      <th>6</th>\n",
       "      <td>GI Group</td>\n",
       "      <td>4.1</td>\n",
       "      <td>23d ago</td>\n",
       "    </tr>\n",
       "    <tr>\n",
       "      <th>7</th>\n",
       "      <td>GI Group</td>\n",
       "      <td>4.1</td>\n",
       "      <td>23d ago</td>\n",
       "    </tr>\n",
       "    <tr>\n",
       "      <th>8</th>\n",
       "      <td>GI Group</td>\n",
       "      <td>4.1</td>\n",
       "      <td>23d ago</td>\n",
       "    </tr>\n",
       "    <tr>\n",
       "      <th>9</th>\n",
       "      <td>Cargoflash</td>\n",
       "      <td>3.8</td>\n",
       "      <td>1d ago</td>\n",
       "    </tr>\n",
       "  </tbody>\n",
       "</table>\n",
       "</div>"
      ],
      "text/plain": [
       "                 Company Name Rating Job Posted\n",
       "0                         HCL    3.8     2d ago\n",
       "1  Jubilant Foodworks Limited    3.9     2d ago\n",
       "2        Ameriprise Financial    4.0     4d ago\n",
       "3                       Paytm    3.7    10d ago\n",
       "4                CHT Sapiense    3.8    11d ago\n",
       "5                CHT Sapiense    3.8    12d ago\n",
       "6                    GI Group    4.1    23d ago\n",
       "7                    GI Group    4.1    23d ago\n",
       "8                    GI Group    4.1    23d ago\n",
       "9                  Cargoflash    3.8     1d ago"
      ]
     },
     "execution_count": 239,
     "metadata": {},
     "output_type": "execute_result"
    }
   ],
   "source": [
    "Jobs = pd.DataFrame({'Company Name' : Name, 'Rating' : Rating, 'Job Posted' : Days})\n",
    "Jobs"
   ]
  },
  {
   "cell_type": "markdown",
   "id": "82163f80",
   "metadata": {},
   "source": [
    "# Question.10"
   ]
  },
  {
   "cell_type": "code",
   "execution_count": 240,
   "id": "71a1bc8c",
   "metadata": {},
   "outputs": [],
   "source": [
    "url = 'https://www.ambitionbox.com/'\n",
    "driver.get(url)"
   ]
  },
  {
   "cell_type": "code",
   "execution_count": 241,
   "id": "e8ae9c98",
   "metadata": {},
   "outputs": [],
   "source": [
    "#Selecting Salary filter\n",
    "select_salary = driver.find_element_by_xpath('//a[@class=\"link salaries\"]')\n",
    "\n",
    "select_salary.click()"
   ]
  },
  {
   "cell_type": "code",
   "execution_count": 242,
   "id": "993d8d84",
   "metadata": {},
   "outputs": [],
   "source": [
    "search_job = driver.find_element_by_xpath('//input[@class=\"tt-input\"]')"
   ]
  },
  {
   "cell_type": "code",
   "execution_count": 243,
   "id": "63addba9",
   "metadata": {},
   "outputs": [],
   "source": [
    "search_job.send_keys('Data Scientist')"
   ]
  },
  {
   "cell_type": "code",
   "execution_count": 244,
   "id": "9d05dccf",
   "metadata": {},
   "outputs": [],
   "source": [
    "select = driver.find_element_by_xpath('//p[@class=\"tt_text\"]')\n",
    "select.click()\n",
    "\n",
    "time.sleep(3)"
   ]
  },
  {
   "cell_type": "markdown",
   "id": "4a35e11a",
   "metadata": {},
   "source": [
    "# SCRAPING THE DATA"
   ]
  },
  {
   "cell_type": "markdown",
   "id": "afc3d33b",
   "metadata": {},
   "source": [
    "Extracting Required Data"
   ]
  },
  {
   "cell_type": "code",
   "execution_count": 245,
   "id": "d08bb4a3",
   "metadata": {},
   "outputs": [
    {
     "data": {
      "text/plain": [
       "['Walmart based on 10 salaries',\n",
       " 'Ab Inbev based on 22 salaries',\n",
       " 'ZS based on 14 salaries',\n",
       " 'Fractal Analytics based on 72 salaries',\n",
       " 'Optum based on 23 salaries',\n",
       " 'UnitedHealth based on 49 salaries',\n",
       " 'Tiger Analytics based on 27 salaries',\n",
       " 'Verizon based on 14 salaries',\n",
       " 'Ganit Business Solutions based on 13 salaries',\n",
       " 'Ericsson based on 42 salaries']"
      ]
     },
     "execution_count": 245,
     "metadata": {},
     "output_type": "execute_result"
    }
   ],
   "source": [
    "company = driver.find_elements_by_xpath('//div[@class=\"name\"]')\n",
    "\n",
    "Company = []\n",
    "\n",
    "for i in company:\n",
    "    Company.append(i.text.replace('\\n',' '))\n",
    "    \n",
    "Company"
   ]
  },
  {
   "cell_type": "code",
   "execution_count": 246,
   "id": "4f9aa944",
   "metadata": {},
   "outputs": [
    {
     "data": {
      "text/plain": [
       "['₹ 17.7L',\n",
       " '₹ 15.0L',\n",
       " '₹ 9.8L',\n",
       " '₹ 9.5L',\n",
       " '₹ 11.0L',\n",
       " '₹ 7.2L',\n",
       " '₹ 8.3L',\n",
       " '₹ 10.0L',\n",
       " '₹ 8.5L',\n",
       " '₹ 5.8L']"
      ]
     },
     "execution_count": 246,
     "metadata": {},
     "output_type": "execute_result"
    }
   ],
   "source": [
    "minimum = driver.find_elements_by_xpath('//div[@class=\"value body-medium\"][1]')\n",
    "\n",
    "Minimum = []\n",
    "\n",
    "for i in minimum:\n",
    "    Minimum.append(i.text)\n",
    "    \n",
    "Minimum"
   ]
  },
  {
   "cell_type": "code",
   "execution_count": 247,
   "id": "6be008f8",
   "metadata": {},
   "outputs": [
    {
     "data": {
      "text/plain": [
       "['₹ 35.0L',\n",
       " '₹ 25.0L',\n",
       " '₹ 20.0L',\n",
       " '₹ 22.0L',\n",
       " '₹ 21.3L',\n",
       " '₹ 20.5L',\n",
       " '₹ 18.5L',\n",
       " '₹ 21.0L',\n",
       " '₹ 15.0L',\n",
       " '₹ 21.5L']"
      ]
     },
     "execution_count": 247,
     "metadata": {},
     "output_type": "execute_result"
    }
   ],
   "source": [
    "maximum = driver.find_elements_by_xpath('//div[@class=\"value body-medium\"][2]')\n",
    "\n",
    "Maximum = []\n",
    "\n",
    "for i in maximum:\n",
    "    Maximum.append(i.text)\n",
    "    \n",
    "Maximum"
   ]
  },
  {
   "cell_type": "code",
   "execution_count": 248,
   "id": "526153ab",
   "metadata": {},
   "outputs": [
    {
     "data": {
      "text/plain": [
       "['₹ 28.7L',\n",
       " '₹ 19.5L',\n",
       " '₹ 15.8L',\n",
       " '₹ 15.0L',\n",
       " '₹ 15.0L',\n",
       " '₹ 13.5L',\n",
       " '₹ 13.5L',\n",
       " '₹ 12.7L',\n",
       " '₹ 12.4L',\n",
       " '₹ 11.9L']"
      ]
     },
     "execution_count": 248,
     "metadata": {},
     "output_type": "execute_result"
    }
   ],
   "source": [
    "avg = driver.find_elements_by_xpath('//p[@class=\"averageCtc\"]')\n",
    "\n",
    "Avg = []\n",
    "\n",
    "for i in avg:\n",
    "    Avg.append(i.text)\n",
    "    \n",
    "Avg"
   ]
  },
  {
   "cell_type": "code",
   "execution_count": 249,
   "id": "be65da92",
   "metadata": {},
   "outputs": [
    {
     "data": {
      "text/plain": [
       "['Data Scientist  .  3 yrs exp',\n",
       " 'Data Scientist  .  3-4 yrs exp',\n",
       " 'Data Scientist  .  2 yrs exp',\n",
       " 'Data Scientist  .  2-4 yrs exp',\n",
       " 'Data Scientist  .  3-4 yrs exp',\n",
       " 'Data Scientist  .  2-4 yrs exp',\n",
       " 'Data Scientist  .  3-4 yrs exp',\n",
       " 'Data Scientist  .  4 yrs exp',\n",
       " 'Data Scientist  .  4 yrs exp',\n",
       " 'Data Scientist  .  3-4 yrs exp']"
      ]
     },
     "execution_count": 249,
     "metadata": {},
     "output_type": "execute_result"
    }
   ],
   "source": [
    "exp = driver.find_elements_by_xpath('//div[@class=\"salaries sbold-list-header\"]')\n",
    "\n",
    "Exp = []\n",
    "\n",
    "for i in exp:\n",
    "    Exp.append(i.text.replace('\\n', ' '))\n",
    "    \n",
    "Exp"
   ]
  },
  {
   "cell_type": "code",
   "execution_count": 250,
   "id": "5ccd062b",
   "metadata": {},
   "outputs": [],
   "source": [
    "import pandas as pd"
   ]
  },
  {
   "cell_type": "markdown",
   "id": "6a2df142",
   "metadata": {},
   "source": [
    "Making DataFrame"
   ]
  },
  {
   "cell_type": "code",
   "execution_count": 251,
   "id": "f91ffc62",
   "metadata": {},
   "outputs": [
    {
     "data": {
      "text/html": [
       "<div>\n",
       "<style scoped>\n",
       "    .dataframe tbody tr th:only-of-type {\n",
       "        vertical-align: middle;\n",
       "    }\n",
       "\n",
       "    .dataframe tbody tr th {\n",
       "        vertical-align: top;\n",
       "    }\n",
       "\n",
       "    .dataframe thead th {\n",
       "        text-align: right;\n",
       "    }\n",
       "</style>\n",
       "<table border=\"1\" class=\"dataframe\">\n",
       "  <thead>\n",
       "    <tr style=\"text-align: right;\">\n",
       "      <th></th>\n",
       "      <th>Min_Salary</th>\n",
       "      <th>Max_Salary</th>\n",
       "      <th>Company</th>\n",
       "      <th>Avg_Salary</th>\n",
       "      <th>Role and Experience</th>\n",
       "    </tr>\n",
       "  </thead>\n",
       "  <tbody>\n",
       "    <tr>\n",
       "      <th>0</th>\n",
       "      <td>₹ 17.7L</td>\n",
       "      <td>₹ 35.0L</td>\n",
       "      <td>Walmart based on 10 salaries</td>\n",
       "      <td>₹ 28.7L</td>\n",
       "      <td>Data Scientist  .  3 yrs exp</td>\n",
       "    </tr>\n",
       "    <tr>\n",
       "      <th>1</th>\n",
       "      <td>₹ 15.0L</td>\n",
       "      <td>₹ 25.0L</td>\n",
       "      <td>Ab Inbev based on 22 salaries</td>\n",
       "      <td>₹ 19.5L</td>\n",
       "      <td>Data Scientist  .  3-4 yrs exp</td>\n",
       "    </tr>\n",
       "    <tr>\n",
       "      <th>2</th>\n",
       "      <td>₹ 9.8L</td>\n",
       "      <td>₹ 20.0L</td>\n",
       "      <td>ZS based on 14 salaries</td>\n",
       "      <td>₹ 15.8L</td>\n",
       "      <td>Data Scientist  .  2 yrs exp</td>\n",
       "    </tr>\n",
       "    <tr>\n",
       "      <th>3</th>\n",
       "      <td>₹ 9.5L</td>\n",
       "      <td>₹ 22.0L</td>\n",
       "      <td>Fractal Analytics based on 72 salaries</td>\n",
       "      <td>₹ 15.0L</td>\n",
       "      <td>Data Scientist  .  2-4 yrs exp</td>\n",
       "    </tr>\n",
       "    <tr>\n",
       "      <th>4</th>\n",
       "      <td>₹ 11.0L</td>\n",
       "      <td>₹ 21.3L</td>\n",
       "      <td>Optum based on 23 salaries</td>\n",
       "      <td>₹ 15.0L</td>\n",
       "      <td>Data Scientist  .  3-4 yrs exp</td>\n",
       "    </tr>\n",
       "    <tr>\n",
       "      <th>5</th>\n",
       "      <td>₹ 7.2L</td>\n",
       "      <td>₹ 20.5L</td>\n",
       "      <td>UnitedHealth based on 49 salaries</td>\n",
       "      <td>₹ 13.5L</td>\n",
       "      <td>Data Scientist  .  2-4 yrs exp</td>\n",
       "    </tr>\n",
       "    <tr>\n",
       "      <th>6</th>\n",
       "      <td>₹ 8.3L</td>\n",
       "      <td>₹ 18.5L</td>\n",
       "      <td>Tiger Analytics based on 27 salaries</td>\n",
       "      <td>₹ 13.5L</td>\n",
       "      <td>Data Scientist  .  3-4 yrs exp</td>\n",
       "    </tr>\n",
       "    <tr>\n",
       "      <th>7</th>\n",
       "      <td>₹ 10.0L</td>\n",
       "      <td>₹ 21.0L</td>\n",
       "      <td>Verizon based on 14 salaries</td>\n",
       "      <td>₹ 12.7L</td>\n",
       "      <td>Data Scientist  .  4 yrs exp</td>\n",
       "    </tr>\n",
       "    <tr>\n",
       "      <th>8</th>\n",
       "      <td>₹ 8.5L</td>\n",
       "      <td>₹ 15.0L</td>\n",
       "      <td>Ganit Business Solutions based on 13 salaries</td>\n",
       "      <td>₹ 12.4L</td>\n",
       "      <td>Data Scientist  .  4 yrs exp</td>\n",
       "    </tr>\n",
       "    <tr>\n",
       "      <th>9</th>\n",
       "      <td>₹ 5.8L</td>\n",
       "      <td>₹ 21.5L</td>\n",
       "      <td>Ericsson based on 42 salaries</td>\n",
       "      <td>₹ 11.9L</td>\n",
       "      <td>Data Scientist  .  3-4 yrs exp</td>\n",
       "    </tr>\n",
       "  </tbody>\n",
       "</table>\n",
       "</div>"
      ],
      "text/plain": [
       "  Min_Salary Max_Salary                                        Company  \\\n",
       "0    ₹ 17.7L    ₹ 35.0L                   Walmart based on 10 salaries   \n",
       "1    ₹ 15.0L    ₹ 25.0L                  Ab Inbev based on 22 salaries   \n",
       "2     ₹ 9.8L    ₹ 20.0L                        ZS based on 14 salaries   \n",
       "3     ₹ 9.5L    ₹ 22.0L         Fractal Analytics based on 72 salaries   \n",
       "4    ₹ 11.0L    ₹ 21.3L                     Optum based on 23 salaries   \n",
       "5     ₹ 7.2L    ₹ 20.5L              UnitedHealth based on 49 salaries   \n",
       "6     ₹ 8.3L    ₹ 18.5L           Tiger Analytics based on 27 salaries   \n",
       "7    ₹ 10.0L    ₹ 21.0L                   Verizon based on 14 salaries   \n",
       "8     ₹ 8.5L    ₹ 15.0L  Ganit Business Solutions based on 13 salaries   \n",
       "9     ₹ 5.8L    ₹ 21.5L                  Ericsson based on 42 salaries   \n",
       "\n",
       "  Avg_Salary             Role and Experience  \n",
       "0    ₹ 28.7L    Data Scientist  .  3 yrs exp  \n",
       "1    ₹ 19.5L  Data Scientist  .  3-4 yrs exp  \n",
       "2    ₹ 15.8L    Data Scientist  .  2 yrs exp  \n",
       "3    ₹ 15.0L  Data Scientist  .  2-4 yrs exp  \n",
       "4    ₹ 15.0L  Data Scientist  .  3-4 yrs exp  \n",
       "5    ₹ 13.5L  Data Scientist  .  2-4 yrs exp  \n",
       "6    ₹ 13.5L  Data Scientist  .  3-4 yrs exp  \n",
       "7    ₹ 12.7L    Data Scientist  .  4 yrs exp  \n",
       "8    ₹ 12.4L    Data Scientist  .  4 yrs exp  \n",
       "9    ₹ 11.9L  Data Scientist  .  3-4 yrs exp  "
      ]
     },
     "execution_count": 251,
     "metadata": {},
     "output_type": "execute_result"
    }
   ],
   "source": [
    "Salary_Range = pd.DataFrame({'Min_Salary':Minimum, 'Max_Salary':Maximum, 'Company':Company, 'Avg_Salary':Avg, 'Role and Experience':Exp})\n",
    "Salary_Range"
   ]
  }
 ],
 "metadata": {
  "kernelspec": {
   "display_name": "Python 3",
   "language": "python",
   "name": "python3"
  },
  "language_info": {
   "codemirror_mode": {
    "name": "ipython",
    "version": 3
   },
   "file_extension": ".py",
   "mimetype": "text/x-python",
   "name": "python",
   "nbconvert_exporter": "python",
   "pygments_lexer": "ipython3",
   "version": "3.8.8"
  }
 },
 "nbformat": 4,
 "nbformat_minor": 5
}
